{
  "cells": [
    {
      "cell_type": "markdown",
      "metadata": {
        "id": "6fC_kwC1V3wB"
      },
      "source": [
        "# RUN"
      ]
    },
    {
      "cell_type": "markdown",
      "metadata": {
        "id": "_pJY6yL4yjJg"
      },
      "source": [
        "Whenever a new year's data has to be added, say for AY 2023, we will be performing DW corrections on 2022 data and 2021 data. So exporting of data will be done for AY 2021, AY 2022 and AY 2023"
      ]
    },
    {
      "cell_type": "code",
      "execution_count": null,
      "metadata": {
        "colab": {
          "base_uri": "https://localhost:8080/"
        },
        "id": "rK5dW5nFE6Ps",
        "outputId": "f8b1f0df-a8f8-487f-88ef-cb99201a52ec"
      },
      "outputs": [
        {
          "output_type": "stream",
          "name": "stdout",
          "text": [
            "Collecting fiona\n",
            "  Downloading fiona-1.10.1-cp311-cp311-manylinux_2_17_x86_64.manylinux2014_x86_64.whl.metadata (56 kB)\n",
            "\u001b[?25l     \u001b[90m━━━━━━━━━━━━━━━━━━━━━━━━━━━━━━━━━━━━━━━━\u001b[0m \u001b[32m0.0/56.6 kB\u001b[0m \u001b[31m?\u001b[0m eta \u001b[36m-:--:--\u001b[0m\r\u001b[2K     \u001b[90m━━━━━━━━━━━━━━━━━━━━━━━━━━━━━━━━━━━━━━━━\u001b[0m \u001b[32m56.6/56.6 kB\u001b[0m \u001b[31m1.4 MB/s\u001b[0m eta \u001b[36m0:00:00\u001b[0m\n",
            "\u001b[?25hRequirement already satisfied: attrs>=19.2.0 in /usr/local/lib/python3.11/dist-packages (from fiona) (25.3.0)\n",
            "Requirement already satisfied: certifi in /usr/local/lib/python3.11/dist-packages (from fiona) (2025.6.15)\n",
            "Requirement already satisfied: click~=8.0 in /usr/local/lib/python3.11/dist-packages (from fiona) (8.2.1)\n",
            "Collecting click-plugins>=1.0 (from fiona)\n",
            "  Downloading click_plugins-1.1.1.2-py2.py3-none-any.whl.metadata (6.5 kB)\n",
            "Collecting cligj>=0.5 (from fiona)\n",
            "  Downloading cligj-0.7.2-py3-none-any.whl.metadata (5.0 kB)\n",
            "Downloading fiona-1.10.1-cp311-cp311-manylinux_2_17_x86_64.manylinux2014_x86_64.whl (17.3 MB)\n",
            "\u001b[2K   \u001b[90m━━━━━━━━━━━━━━━━━━━━━━━━━━━━━━━━━━━━━━━━\u001b[0m \u001b[32m17.3/17.3 MB\u001b[0m \u001b[31m95.0 MB/s\u001b[0m eta \u001b[36m0:00:00\u001b[0m\n",
            "\u001b[?25hDownloading click_plugins-1.1.1.2-py2.py3-none-any.whl (11 kB)\n",
            "Downloading cligj-0.7.2-py3-none-any.whl (7.1 kB)\n",
            "Installing collected packages: cligj, click-plugins, fiona\n",
            "Successfully installed click-plugins-1.1.1.2 cligj-0.7.2 fiona-1.10.1\n"
          ]
        }
      ],
      "source": [
        "!pip install fiona"
      ]
    },
    {
      "cell_type": "code",
      "execution_count": null,
      "metadata": {
        "id": "d3mtvr5wq58I"
      },
      "outputs": [],
      "source": [
        "import pandas as pd\n",
        "from glob import glob\n",
        "import re\n",
        "import matplotlib.pyplot as plt\n",
        "import json\n",
        "import numpy as np\n",
        "from scipy import stats as st\n",
        "import ee\n",
        "import shapely.geometry\n",
        "from shapely.geometry import Point, Polygon\n",
        "import geopandas as gpd\n",
        "import fiona\n",
        "from math import sqrt\n",
        "from shapely import wkt\n",
        "import os\n",
        "import time\n",
        "import geemap"
      ]
    },
    {
      "cell_type": "code",
      "execution_count": null,
      "metadata": {
        "colab": {
          "base_uri": "https://localhost:8080/",
          "height": 17
        },
        "id": "f3ga7phUrEp2",
        "outputId": "4e5511b5-c49b-49fe-914d-67d9e5079279"
      },
      "outputs": [
        {
          "output_type": "display_data",
          "data": {
            "text/plain": [
              "<IPython.core.display.HTML object>"
            ],
            "text/html": [
              "\n",
              "            <style>\n",
              "                .geemap-dark {\n",
              "                    --jp-widgets-color: white;\n",
              "                    --jp-widgets-label-color: white;\n",
              "                    --jp-ui-font-color1: white;\n",
              "                    --jp-layout-color2: #454545;\n",
              "                    background-color: #383838;\n",
              "                }\n",
              "\n",
              "                .geemap-dark .jupyter-button {\n",
              "                    --jp-layout-color3: #383838;\n",
              "                }\n",
              "\n",
              "                .geemap-colab {\n",
              "                    background-color: var(--colab-primary-surface-color, white);\n",
              "                }\n",
              "\n",
              "                .geemap-colab .jupyter-button {\n",
              "                    --jp-layout-color3: var(--colab-primary-surface-color, white);\n",
              "                }\n",
              "            </style>\n",
              "            "
            ]
          },
          "metadata": {}
        }
      ],
      "source": [
        "ee.Authenticate()\n",
        "ee.Initialize(project='ee-mtpictd')"
      ]
    },
    {
      "cell_type": "code",
      "execution_count": null,
      "metadata": {
        "colab": {
          "base_uri": "https://localhost:8080/",
          "height": 34
        },
        "id": "BuU2R-IxrE9F",
        "outputId": "0614c5ed-820a-45a0-cf0b-b8440c58ac10"
      },
      "outputs": [
        {
          "output_type": "display_data",
          "data": {
            "text/plain": [
              "<IPython.core.display.HTML object>"
            ],
            "text/html": [
              "\n",
              "            <style>\n",
              "                .geemap-dark {\n",
              "                    --jp-widgets-color: white;\n",
              "                    --jp-widgets-label-color: white;\n",
              "                    --jp-ui-font-color1: white;\n",
              "                    --jp-layout-color2: #454545;\n",
              "                    background-color: #383838;\n",
              "                }\n",
              "\n",
              "                .geemap-dark .jupyter-button {\n",
              "                    --jp-layout-color3: #383838;\n",
              "                }\n",
              "\n",
              "                .geemap-colab {\n",
              "                    background-color: var(--colab-primary-surface-color, white);\n",
              "                }\n",
              "\n",
              "                .geemap-colab .jupyter-button {\n",
              "                    --jp-layout-color3: var(--colab-primary-surface-color, white);\n",
              "                }\n",
              "            </style>\n",
              "            "
            ]
          },
          "metadata": {}
        },
        {
          "output_type": "stream",
          "name": "stdout",
          "text": [
            "Mounted at /content/drive\n"
          ]
        }
      ],
      "source": [
        "from google.colab import drive\n",
        "drive.mount('/content/drive')"
      ]
    },
    {
      "cell_type": "code",
      "execution_count": null,
      "metadata": {
        "colab": {
          "base_uri": "https://localhost:8080/",
          "height": 17
        },
        "id": "dV1rD_kRrja7",
        "outputId": "72ad67c4-21c9-40b1-e437-3b5ce5b3d9c5"
      },
      "outputs": [
        {
          "output_type": "display_data",
          "data": {
            "text/plain": [
              "<IPython.core.display.HTML object>"
            ],
            "text/html": [
              "\n",
              "            <style>\n",
              "                .geemap-dark {\n",
              "                    --jp-widgets-color: white;\n",
              "                    --jp-widgets-label-color: white;\n",
              "                    --jp-ui-font-color1: white;\n",
              "                    --jp-layout-color2: #454545;\n",
              "                    background-color: #383838;\n",
              "                }\n",
              "\n",
              "                .geemap-dark .jupyter-button {\n",
              "                    --jp-layout-color3: #383838;\n",
              "                }\n",
              "\n",
              "                .geemap-colab {\n",
              "                    background-color: var(--colab-primary-surface-color, white);\n",
              "                }\n",
              "\n",
              "                .geemap-colab .jupyter-button {\n",
              "                    --jp-layout-color3: var(--colab-primary-surface-color, white);\n",
              "                }\n",
              "            </style>\n",
              "            "
            ]
          },
          "metadata": {}
        }
      ],
      "source": [
        "year = 2022"
      ]
    },
    {
      "cell_type": "code",
      "execution_count": null,
      "metadata": {
        "colab": {
          "base_uri": "https://localhost:8080/",
          "height": 17
        },
        "id": "K5KpQzQcrGYd",
        "outputId": "20a83983-04f4-44f6-831b-16e3fdbef90a"
      },
      "outputs": [
        {
          "data": {
            "text/html": [
              "\n",
              "            <style>\n",
              "                .geemap-dark {\n",
              "                    --jp-widgets-color: white;\n",
              "                    --jp-widgets-label-color: white;\n",
              "                    --jp-ui-font-color1: white;\n",
              "                    --jp-layout-color2: #454545;\n",
              "                    background-color: #383838;\n",
              "                }\n",
              "\n",
              "                .geemap-dark .jupyter-button {\n",
              "                    --jp-layout-color3: #383838;\n",
              "                }\n",
              "\n",
              "                .geemap-colab {\n",
              "                    background-color: var(--colab-primary-surface-color, white);\n",
              "                }\n",
              "\n",
              "                .geemap-colab .jupyter-button {\n",
              "                    --jp-layout-color3: var(--colab-primary-surface-color, white);\n",
              "                }\n",
              "            </style>\n",
              "            "
            ],
            "text/plain": [
              "<IPython.core.display.HTML object>"
            ]
          },
          "metadata": {},
          "output_type": "display_data"
        }
      ],
      "source": [
        "# Choose appropriate ACZ\n",
        "\n",
        "# agroclimatic_zone = \"Eastern Plateau & Hills Region\"\n",
        "agroclimatic_zone = \"Southern Plateau and Hills Region\"\n",
        "# agroclimatic_zone = \"East Coast Plains & Hills Region\"\n",
        "# agroclimatic_zone = \"Western Plateau and Hills Region\"\n",
        "# agroclimatic_zone = \"Central Plateau & Hills Region\"\n",
        "# agroclimatic_zone = \"Lower Gangetic Plain Region\"\n",
        "# agroclimatic_zone = \"Middle Gangetic Plain Region\"\n",
        "# agroclimatic_zone = \"Eastern Himalayan Region\"\n",
        "# agroclimatic_zone = \"Western Himalayan Region\"\n",
        "# agroclimatic_zone = \"Upper Gangetic Plain Region\"\n",
        "# agroclimatic_zone = \"Trans Gangetic Plain Region\"\n",
        "\n",
        "# agroclimatic_zone = \"West Coast Plains & Ghat Region\"\n",
        "# agroclimatic_zone = \"Gujarat Plains & Hills Region\"\n",
        "# agroclimatic_zone = \"Western Dry Region\""
      ]
    },
    {
      "cell_type": "code",
      "execution_count": null,
      "metadata": {
        "colab": {
          "base_uri": "https://localhost:8080/",
          "height": 17
        },
        "id": "BCsvuGV7rNS5",
        "outputId": "5dcc41ea-81f1-4f68-a29d-d5427cba00c3"
      },
      "outputs": [
        {
          "data": {
            "text/html": [
              "\n",
              "            <style>\n",
              "                .geemap-dark {\n",
              "                    --jp-widgets-color: white;\n",
              "                    --jp-widgets-label-color: white;\n",
              "                    --jp-ui-font-color1: white;\n",
              "                    --jp-layout-color2: #454545;\n",
              "                    background-color: #383838;\n",
              "                }\n",
              "\n",
              "                .geemap-dark .jupyter-button {\n",
              "                    --jp-layout-color3: #383838;\n",
              "                }\n",
              "\n",
              "                .geemap-colab {\n",
              "                    background-color: var(--colab-primary-surface-color, white);\n",
              "                }\n",
              "\n",
              "                .geemap-colab .jupyter-button {\n",
              "                    --jp-layout-color3: var(--colab-primary-surface-color, white);\n",
              "                }\n",
              "            </style>\n",
              "            "
            ],
            "text/plain": [
              "<IPython.core.display.HTML object>"
            ]
          },
          "metadata": {},
          "output_type": "display_data"
        }
      ],
      "source": [
        "agroclimaticZone_acronym_dict = {'Eastern Plateau & Hills Region': 'EPAHR',\n",
        "                               'Southern Plateau & Hills Region': 'SPAHR',\n",
        "                               'East Coast Plains & Hills Region': 'ECPHR',\n",
        "                               'Western Plateau & Hills Region': 'WPAHR',\n",
        "                               'Central Plateau & Hills Region': 'CPAHR',\n",
        "                               'Lower Gangetic Plain Region': 'LGPR',\n",
        "                                'Middle Gangetic Plain Region': 'MGPR',\n",
        "                                'Eastern Himalayan Region': 'EHR',\n",
        "                                'Western Himalayan Region': 'WHR',\n",
        "                                'Upper Gangetic Plain Region': 'UGPR',\n",
        "                                'Trans Gangetic Plain Region': 'TGPR',\n",
        "                                'West Coast Plains & Ghat Region': 'WCPGR',\n",
        "                                'Gujarat Plains & Hills Region': 'GPHR',\n",
        "                                'Western Dry Region': 'WDR'}"
      ]
    },
    {
      "cell_type": "code",
      "execution_count": null,
      "metadata": {
        "colab": {
          "base_uri": "https://localhost:8080/",
          "height": 17
        },
        "id": "rqpQhlMdrPvI",
        "outputId": "053681b2-c27e-4195-ce38-2b321fbbae76"
      },
      "outputs": [
        {
          "data": {
            "text/html": [
              "\n",
              "            <style>\n",
              "                .geemap-dark {\n",
              "                    --jp-widgets-color: white;\n",
              "                    --jp-widgets-label-color: white;\n",
              "                    --jp-ui-font-color1: white;\n",
              "                    --jp-layout-color2: #454545;\n",
              "                    background-color: #383838;\n",
              "                }\n",
              "\n",
              "                .geemap-dark .jupyter-button {\n",
              "                    --jp-layout-color3: #383838;\n",
              "                }\n",
              "\n",
              "                .geemap-colab {\n",
              "                    background-color: var(--colab-primary-surface-color, white);\n",
              "                }\n",
              "\n",
              "                .geemap-colab .jupyter-button {\n",
              "                    --jp-layout-color3: var(--colab-primary-surface-color, white);\n",
              "                }\n",
              "            </style>\n",
              "            "
            ],
            "text/plain": [
              "<IPython.core.display.HTML object>"
            ]
          },
          "metadata": {},
          "output_type": "display_data"
        }
      ],
      "source": [
        "india_boundary = ee.FeatureCollection(\"projects/ee-mtpictd/assets/harsh/Agroclimatic_regions\")\n",
        "agrozone = india_boundary.filter(ee.Filter.eq('regionname', agroclimatic_zone)).geometry()\n",
        "india_district_boundary = ee.FeatureCollection(\"projects/ee-indiasat/assets/india_district_boundaries\")"
      ]
    },
    {
      "cell_type": "code",
      "execution_count": null,
      "metadata": {
        "colab": {
          "base_uri": "https://localhost:8080/",
          "height": 17
        },
        "id": "cdghOEtTrVlG",
        "outputId": "0692b335-1dc3-4d61-f219-341084356c93"
      },
      "outputs": [
        {
          "data": {
            "text/html": [
              "\n",
              "            <style>\n",
              "                .geemap-dark {\n",
              "                    --jp-widgets-color: white;\n",
              "                    --jp-widgets-label-color: white;\n",
              "                    --jp-ui-font-color1: white;\n",
              "                    --jp-layout-color2: #454545;\n",
              "                    background-color: #383838;\n",
              "                }\n",
              "\n",
              "                .geemap-dark .jupyter-button {\n",
              "                    --jp-layout-color3: #383838;\n",
              "                }\n",
              "\n",
              "                .geemap-colab {\n",
              "                    background-color: var(--colab-primary-surface-color, white);\n",
              "                }\n",
              "\n",
              "                .geemap-colab .jupyter-button {\n",
              "                    --jp-layout-color3: var(--colab-primary-surface-color, white);\n",
              "                }\n",
              "            </style>\n",
              "            "
            ],
            "text/plain": [
              "<IPython.core.display.HTML object>"
            ]
          },
          "metadata": {},
          "output_type": "display_data"
        }
      ],
      "source": [
        "s1_bands = ['VV', 'VH', 'angle']\n",
        "s2_bands = ['B1','B2', 'B3', 'B4', 'B5', 'B6', 'B7', 'B8', 'B10', 'B11','B12']"
      ]
    },
    {
      "cell_type": "code",
      "execution_count": null,
      "metadata": {
        "colab": {
          "base_uri": "https://localhost:8080/",
          "height": 17
        },
        "id": "DbPlZUgVroP6",
        "outputId": "41da8749-895c-4c92-ca0b-25add36f7093"
      },
      "outputs": [
        {
          "data": {
            "text/html": [
              "\n",
              "            <style>\n",
              "                .geemap-dark {\n",
              "                    --jp-widgets-color: white;\n",
              "                    --jp-widgets-label-color: white;\n",
              "                    --jp-ui-font-color1: white;\n",
              "                    --jp-layout-color2: #454545;\n",
              "                    background-color: #383838;\n",
              "                }\n",
              "\n",
              "                .geemap-dark .jupyter-button {\n",
              "                    --jp-layout-color3: #383838;\n",
              "                }\n",
              "\n",
              "                .geemap-colab {\n",
              "                    background-color: var(--colab-primary-surface-color, white);\n",
              "                }\n",
              "\n",
              "                .geemap-colab .jupyter-button {\n",
              "                    --jp-layout-color3: var(--colab-primary-surface-color, white);\n",
              "                }\n",
              "            </style>\n",
              "            "
            ],
            "text/plain": [
              "<IPython.core.display.HTML object>"
            ]
          },
          "metadata": {},
          "output_type": "display_data"
        }
      ],
      "source": [
        "START_DATE = {year-2: {'kharif': str(year-2)+'-07-01', 'rabi': str(year-2)+'-11-01', 'zaid': str(year-1)+'-03-01'},\n",
        "              year-1: {'kharif': str(year-1)+'-07-01', 'rabi': str(year-1)+'-11-01', 'zaid': str(year)+'-03-01'},\n",
        "              year: {'kharif': str(year)+'-07-01', 'rabi': str(year)+'-11-01', 'zaid': str(year+1)+'-03-01'}}\n",
        "\n",
        "END_DATE = {year-2: {'kharif': str(year-2)+'-10-31', 'rabi': str(year-1)+'-02-28', 'zaid': str(year-1)+'-06-30'},\n",
        "            year-1: {'kharif': str(year-1)+'-10-31', 'rabi': str(year)+'-02-28', 'zaid': str(year)+'-06-30'},\n",
        "            year: {'kharif': str(year)+'-10-31', 'rabi': str(year+1)+'-02-28', 'zaid': str(year+1)+'-06-30'}}"
      ]
    },
    {
      "cell_type": "code",
      "execution_count": null,
      "metadata": {
        "colab": {
          "base_uri": "https://localhost:8080/",
          "height": 72
        },
        "id": "iMc4afU_vLyO",
        "outputId": "3eb56baa-662d-492a-8751-a84e7a2db160"
      },
      "outputs": [
        {
          "data": {
            "text/html": [
              "\n",
              "            <style>\n",
              "                .geemap-dark {\n",
              "                    --jp-widgets-color: white;\n",
              "                    --jp-widgets-label-color: white;\n",
              "                    --jp-ui-font-color1: white;\n",
              "                    --jp-layout-color2: #454545;\n",
              "                    background-color: #383838;\n",
              "                }\n",
              "\n",
              "                .geemap-dark .jupyter-button {\n",
              "                    --jp-layout-color3: #383838;\n",
              "                }\n",
              "\n",
              "                .geemap-colab {\n",
              "                    background-color: var(--colab-primary-surface-color, white);\n",
              "                }\n",
              "\n",
              "                .geemap-colab .jupyter-button {\n",
              "                    --jp-layout-color3: var(--colab-primary-surface-color, white);\n",
              "                }\n",
              "            </style>\n",
              "            "
            ],
            "text/plain": [
              "<IPython.core.display.HTML object>"
            ]
          },
          "metadata": {},
          "output_type": "display_data"
        },
        {
          "name": "stdout",
          "output_type": "stream",
          "text": [
            "{2020: {'kharif': '2020-07-01', 'rabi': '2020-11-01', 'zaid': '2021-03-01'}, 2021: {'kharif': '2021-07-01', 'rabi': '2021-11-01', 'zaid': '2022-03-01'}, 2022: {'kharif': '2022-07-01', 'rabi': '2022-11-01', 'zaid': '2023-03-01'}}\n",
            "{2020: {'kharif': '2020-10-31', 'rabi': '2021-02-28', 'zaid': '2021-06-30'}, 2021: {'kharif': '2021-10-31', 'rabi': '2022-02-28', 'zaid': '2022-06-30'}, 2022: {'kharif': '2022-10-31', 'rabi': '2023-02-28', 'zaid': '2023-06-30'}}\n"
          ]
        }
      ],
      "source": [
        "print(START_DATE)\n",
        "print(END_DATE)"
      ]
    },
    {
      "cell_type": "code",
      "execution_count": null,
      "metadata": {
        "colab": {
          "base_uri": "https://localhost:8080/",
          "height": 17
        },
        "id": "r3G41xr0rTMx",
        "outputId": "bd523cd1-91c5-41f6-a241-869bed6742c7"
      },
      "outputs": [
        {
          "data": {
            "text/html": [
              "\n",
              "            <style>\n",
              "                .geemap-dark {\n",
              "                    --jp-widgets-color: white;\n",
              "                    --jp-widgets-label-color: white;\n",
              "                    --jp-ui-font-color1: white;\n",
              "                    --jp-layout-color2: #454545;\n",
              "                    background-color: #383838;\n",
              "                }\n",
              "\n",
              "                .geemap-dark .jupyter-button {\n",
              "                    --jp-layout-color3: #383838;\n",
              "                }\n",
              "\n",
              "                .geemap-colab {\n",
              "                    background-color: var(--colab-primary-surface-color, white);\n",
              "                }\n",
              "\n",
              "                .geemap-colab .jupyter-button {\n",
              "                    --jp-layout-color3: var(--colab-primary-surface-color, white);\n",
              "                }\n",
              "            </style>\n",
              "            "
            ],
            "text/plain": [
              "<IPython.core.display.HTML object>"
            ]
          },
          "metadata": {},
          "output_type": "display_data"
        }
      ],
      "source": [
        "# Will take an AOI geometry as input and return the 10km x 10km grids in it as a list\n",
        "def createGrids(aoi):\n",
        "    proj = ee.Projection('EPSG:4326')\n",
        "    gridSize = 10000\n",
        "    grid = aoi.coveringGrid(proj, gridSize)\n",
        "    features = grid.getInfo()['features']\n",
        "    return features"
      ]
    },
    {
      "cell_type": "code",
      "execution_count": null,
      "metadata": {
        "colab": {
          "base_uri": "https://localhost:8080/",
          "height": 17
        },
        "id": "Eg-75uuArbdS",
        "outputId": "cb686a9c-47d2-4543-aa3b-415d3fe0dfd5"
      },
      "outputs": [
        {
          "data": {
            "text/html": [
              "\n",
              "            <style>\n",
              "                .geemap-dark {\n",
              "                    --jp-widgets-color: white;\n",
              "                    --jp-widgets-label-color: white;\n",
              "                    --jp-ui-font-color1: white;\n",
              "                    --jp-layout-color2: #454545;\n",
              "                    background-color: #383838;\n",
              "                }\n",
              "\n",
              "                .geemap-dark .jupyter-button {\n",
              "                    --jp-layout-color3: #383838;\n",
              "                }\n",
              "\n",
              "                .geemap-colab {\n",
              "                    background-color: var(--colab-primary-surface-color, white);\n",
              "                }\n",
              "\n",
              "                .geemap-colab .jupyter-button {\n",
              "                    --jp-layout-color3: var(--colab-primary-surface-color, white);\n",
              "                }\n",
              "            </style>\n",
              "            "
            ],
            "text/plain": [
              "<IPython.core.display.HTML object>"
            ]
          },
          "metadata": {},
          "output_type": "display_data"
        }
      ],
      "source": [
        "###################### Pixel-based cloud masking ###############\n",
        "\n",
        "def get_s2_image(aoi, start_date, end_date):\n",
        "    # First, get S2 imagery collection\n",
        "    s2_col = ee.ImageCollection('COPERNICUS/S2_HARMONIZED').filterDate(\n",
        "        start_date, end_date).filterBounds(aoi)\n",
        "\n",
        "    # Get cloud probability collection for the same area and time period\n",
        "    cloud_prob_col = ee.ImageCollection('COPERNICUS/S2_CLOUD_PROBABILITY').filterDate(\n",
        "        start_date, end_date).filterBounds(aoi)\n",
        "\n",
        "    # Join the two collections\n",
        "    joined = ee.Join.saveFirst('cloud_prob').apply(\n",
        "        primary=s2_col,\n",
        "        secondary=cloud_prob_col,\n",
        "        condition=ee.Filter.equals(leftField='system:index', rightField='system:index')\n",
        "    )\n",
        "\n",
        "    # Apply cloud masking to each image\n",
        "    def apply_cloud_mask(img):\n",
        "        # Get the cloud probability image\n",
        "        cloud_prob = ee.Image(img.get('cloud_prob'))\n",
        "\n",
        "        # If cloud probability data exists, use it along with QA60\n",
        "        cloud_mask = ee.Algorithms.If(\n",
        "            ee.Algorithms.IsEqual(cloud_prob, None),\n",
        "            # If no cloud probability data, use only QA60\n",
        "            img.select('QA60').bitwiseAnd(1 << 10).eq(0).And(\n",
        "                img.select('QA60').bitwiseAnd(1 << 11).eq(0)),\n",
        "            # If cloud probability data exists, use both\n",
        "            img.select('QA60').bitwiseAnd(1 << 10).eq(0).And(\n",
        "                img.select('QA60').bitwiseAnd(1 << 11).eq(0)).And(\n",
        "                cloud_prob.select('probability').lt(20))  # Cloud probability less than 50%\n",
        "        )\n",
        "\n",
        "        return img.updateMask(ee.Image(cloud_mask)).divide(10000)\n",
        "\n",
        "    # Apply the cloud masking to the collection and select bands\n",
        "    masked_collection = ee.ImageCollection(joined).map(apply_cloud_mask).select(s2_bands)\n",
        "\n",
        "    # Create a median composite\n",
        "    return masked_collection.median().clip(aoi)\n",
        "\n",
        "def get_s1_image(aoi, start_date, end_date):\n",
        "  # s1_bands_season = [band + '_' + season for band in s1_bands]\n",
        "  return ee.ImageCollection('COPERNICUS/S1_GRD').filterDate(start_date , end_date).filterBounds(aoi).filter(\n",
        "      ee.Filter.listContains('transmitterReceiverPolarisation', 'VV')).filter(\n",
        "          ee.Filter.listContains('transmitterReceiverPolarisation', 'VH')).filter(\n",
        "              ee.Filter.eq('instrumentMode', 'IW')).select(s1_bands).median().clip(aoi)"
      ]
    },
    {
      "cell_type": "code",
      "execution_count": null,
      "metadata": {
        "colab": {
          "base_uri": "https://localhost:8080/",
          "height": 17
        },
        "id": "26vLGR2Mrb2w",
        "outputId": "0dbbaeba-50a1-4b4d-aa3e-d049d7db0599"
      },
      "outputs": [
        {
          "data": {
            "text/html": [
              "\n",
              "            <style>\n",
              "                .geemap-dark {\n",
              "                    --jp-widgets-color: white;\n",
              "                    --jp-widgets-label-color: white;\n",
              "                    --jp-ui-font-color1: white;\n",
              "                    --jp-layout-color2: #454545;\n",
              "                    background-color: #383838;\n",
              "                }\n",
              "\n",
              "                .geemap-dark .jupyter-button {\n",
              "                    --jp-layout-color3: #383838;\n",
              "                }\n",
              "\n",
              "                .geemap-colab {\n",
              "                    background-color: var(--colab-primary-surface-color, white);\n",
              "                }\n",
              "\n",
              "                .geemap-colab .jupyter-button {\n",
              "                    --jp-layout-color3: var(--colab-primary-surface-color, white);\n",
              "                }\n",
              "            </style>\n",
              "            "
            ],
            "text/plain": [
              "<IPython.core.display.HTML object>"
            ]
          },
          "metadata": {},
          "output_type": "display_data"
        }
      ],
      "source": [
        "def save_data_csv(data_points, img_name, district, year):\n",
        "  print(\"Saving data for\", district, year)\n",
        "  new_img_name = img_name.replace('&', 'and')\n",
        "  new_img_name = new_img_name.replace('(', '')\n",
        "  new_img_name = new_img_name.replace(')', '')\n",
        "  task = ee.batch.Export.table.toDrive(\n",
        "      collection = data_points,\n",
        "      description = new_img_name,\n",
        "      folder = f\"{agroclimaticZone_acronym_dict[agroclimatic_zone]}_{district}_{year}\",\n",
        "      fileNamePrefix = new_img_name,\n",
        "      fileFormat = 'CSV'\n",
        "      )\n",
        "  task.start()\n",
        "  return task"
      ]
    },
    {
      "cell_type": "code",
      "execution_count": null,
      "metadata": {
        "colab": {
          "base_uri": "https://localhost:8080/",
          "height": 17
        },
        "id": "3UL08RFBs8XE",
        "outputId": "7170a57a-7065-4097-9f37-79065ceaa521"
      },
      "outputs": [
        {
          "data": {
            "text/html": [
              "\n",
              "            <style>\n",
              "                .geemap-dark {\n",
              "                    --jp-widgets-color: white;\n",
              "                    --jp-widgets-label-color: white;\n",
              "                    --jp-ui-font-color1: white;\n",
              "                    --jp-layout-color2: #454545;\n",
              "                    background-color: #383838;\n",
              "                }\n",
              "\n",
              "                .geemap-dark .jupyter-button {\n",
              "                    --jp-layout-color3: #383838;\n",
              "                }\n",
              "\n",
              "                .geemap-colab {\n",
              "                    background-color: var(--colab-primary-surface-color, white);\n",
              "                }\n",
              "\n",
              "                .geemap-colab .jupyter-button {\n",
              "                    --jp-layout-color3: var(--colab-primary-surface-color, white);\n",
              "                }\n",
              "            </style>\n",
              "            "
            ],
            "text/plain": [
              "<IPython.core.display.HTML object>"
            ]
          },
          "metadata": {},
          "output_type": "display_data"
        }
      ],
      "source": [
        "df = pd.read_csv(f'drive/MyDrive/harsh/{agroclimatic_zone}.csv')\n",
        "dist_list = list(df['Name'])"
      ]
    },
    {
      "cell_type": "code",
      "execution_count": null,
      "metadata": {
        "id": "bRh9PkZqp8jr"
      },
      "outputs": [],
      "source": [
        "years = [str(year-2), str(year-1), str(year)]\n",
        "year_0 = years[0]\n",
        "year_1 = years[1]\n",
        "year_2 = years[2]\n",
        "year_suffix = {year_0: year_0[-2:], year_1: year_1[-2:], year_2: year_2[-2:]}"
      ]
    },
    {
      "cell_type": "code",
      "execution_count": null,
      "metadata": {
        "colab": {
          "base_uri": "https://localhost:8080/",
          "height": 17
        },
        "id": "G0QVnceyWULn",
        "outputId": "8728c616-0a77-4700-b86f-831327d42474"
      },
      "outputs": [
        {
          "data": {
            "text/html": [
              "\n",
              "            <style>\n",
              "                .geemap-dark {\n",
              "                    --jp-widgets-color: white;\n",
              "                    --jp-widgets-label-color: white;\n",
              "                    --jp-ui-font-color1: white;\n",
              "                    --jp-layout-color2: #454545;\n",
              "                    background-color: #383838;\n",
              "                }\n",
              "\n",
              "                .geemap-dark .jupyter-button {\n",
              "                    --jp-layout-color3: #383838;\n",
              "                }\n",
              "\n",
              "                .geemap-colab {\n",
              "                    background-color: var(--colab-primary-surface-color, white);\n",
              "                }\n",
              "\n",
              "                .geemap-colab .jupyter-button {\n",
              "                    --jp-layout-color3: var(--colab-primary-surface-color, white);\n",
              "                }\n",
              "            </style>\n",
              "            "
            ],
            "text/plain": [
              "<IPython.core.display.HTML object>"
            ]
          },
          "metadata": {},
          "output_type": "display_data"
        }
      ],
      "source": [
        "def get_dw_tree_cover(aoi, start_date, end_date, scale = 25):\n",
        "    tree_cover_dw = ee.ImageCollection(\"GOOGLE/DYNAMICWORLD/V1\").filterDate(start_date, end_date) \\\n",
        "                  .filterBounds(aoi).select('label').mode().clip(aoi)\n",
        "    return tree_cover_dw.updateMask(tree_cover_dw.eq(1)).reproject(crs='EPSG:4326', scale=scale)\n",
        "\n",
        "def get_is_tree_cover(aoi, year, scale = 25):\n",
        "    year = int(year)\n",
        "    indiasat_asset = f\"projects/ee-corestackdev/assets/datasets/LULC_v3_river_basin/pan_india_lulc_v3_{year}_{year+1}\"\n",
        "    lulc_image = ee.Image(indiasat_asset).select(\"predicted_label\").clip(aoi)\n",
        "    return lulc_image.updateMask(lulc_image.eq(6)).reproject(crs='EPSG:4326', scale=scale)\n",
        "\n",
        "def get_tree_cover(aoi, year, scale = 25):\n",
        "    year = int(year)\n",
        "    start_date = ee.Date(f'{year}-07-01')\n",
        "    end_date = ee.Date(f'{year+1}-06-30')\n",
        "\n",
        "    tree_cover_is = get_is_tree_cover(aoi, year, scale)\n",
        "    tree_cover_dw = get_dw_tree_cover(aoi, start_date, end_date, scale)\n",
        "    tree_cover = tree_cover_is.mask().Or(tree_cover_dw.mask())\n",
        "    tree_cover = tree_cover.updateMask(tree_cover)\n",
        "    return tree_cover.reproject(crs='EPSG:4326', scale=scale)"
      ]
    },
    {
      "cell_type": "code",
      "execution_count": null,
      "metadata": {
        "colab": {
          "background_save": true,
          "base_uri": "https://localhost:8080/",
          "height": 347
        },
        "id": "8ZLOP9fKs-9k",
        "outputId": "03c6ebd1-133a-4f9d-f9de-d9c27a599763"
      },
      "outputs": [
        {
          "data": {
            "text/html": [
              "\n",
              "            <style>\n",
              "                .geemap-dark {\n",
              "                    --jp-widgets-color: white;\n",
              "                    --jp-widgets-label-color: white;\n",
              "                    --jp-ui-font-color1: white;\n",
              "                    --jp-layout-color2: #454545;\n",
              "                    background-color: #383838;\n",
              "                }\n",
              "\n",
              "                .geemap-dark .jupyter-button {\n",
              "                    --jp-layout-color3: #383838;\n",
              "                }\n",
              "\n",
              "                .geemap-colab {\n",
              "                    background-color: var(--colab-primary-surface-color, white);\n",
              "                }\n",
              "\n",
              "                .geemap-colab .jupyter-button {\n",
              "                    --jp-layout-color3: var(--colab-primary-surface-color, white);\n",
              "                }\n",
              "            </style>\n",
              "            "
            ],
            "text/plain": [
              "<IPython.core.display.HTML object>"
            ]
          },
          "metadata": {},
          "output_type": "display_data"
        },
        {
          "name": "stdout",
          "output_type": "stream",
          "text": [
            "Year 2022, District 0: Custom_KML_Area, grids: 8\n",
            "Grid 0\n",
            "Saving data for Custom_KML_Area 2022\n",
            "Grid 1\n",
            "Saving data for Custom_KML_Area 2022\n",
            "Grid 2\n",
            "Saving data for Custom_KML_Area 2022\n",
            "Grid 3\n",
            "Saving data for Custom_KML_Area 2022\n",
            "Grid 4\n",
            "Saving data for Custom_KML_Area 2022\n",
            "Grid 5\n",
            "Saving data for Custom_KML_Area 2022\n",
            "Grid 6\n",
            "Saving data for Custom_KML_Area 2022\n",
            "Grid 7\n",
            "Saving data for Custom_KML_Area 2022\n",
            "17.544011116027832\n",
            "Waiting for last task to be completed...\n"
          ]
        }
      ],
      "source": [
        "for year in years:\n",
        "\n",
        "  total_time = 0\n",
        "\n",
        "  dist_cnt = 0\n",
        "  for district in dist_list:\n",
        "\n",
        "      # if dist_cnt < 3:\n",
        "      #     dist_cnt += 1\n",
        "      #     continue\n",
        "\n",
        "      start_time = time.time()\n",
        "\n",
        "      district_aoi = india_district_boundary.filter(ee.Filter.eq('Name', district)).geometry()\n",
        "      district_aoi = district_aoi.intersection(agrozone)\n",
        "      features = createGrids(district_aoi)\n",
        "\n",
        "      print(f'Year {year}, District {dist_cnt}: {district}, grids: {len(features)}')\n",
        "\n",
        "      path = f'drive/MyDrive/{agroclimatic_zone}/{district}/{year}/'\n",
        "      os.makedirs(path, exist_ok=True)\n",
        "\n",
        "      df = pd.DataFrame()\n",
        "      df['grid_num'] = list(range(len(features)))\n",
        "      tree_points_list = []\n",
        "\n",
        "      i = 0\n",
        "      for feature in features:\n",
        "          print(f'Grid {i}')\n",
        "\n",
        "          coord = feature['geometry']['coordinates'][0]\n",
        "          aoi = ee.Geometry.Polygon(coord)\n",
        "          aoi = aoi.intersection(district_aoi)\n",
        "\n",
        "          img_name = district + \"_\" + str(i) + \"_\" + str(year)\n",
        "\n",
        "          start_date = START_DATE[year]\n",
        "          end_date = END_DATE[year]\n",
        "\n",
        "          # Get tree cover using both Dynamic World and IndiaSat (union)\n",
        "          tree_cover = get_tree_cover(aoi, year, scale=25)\n",
        "\n",
        "          season = 'kharif'\n",
        "          try:\n",
        "              image = get_s1_image(aoi, start_date[season], end_date[season])\n",
        "              image = image.updateMask(tree_cover)\n",
        "          except Exception as exp:\n",
        "              print(\"S1 Error occured: \", season, exp)\n",
        "\n",
        "          try:\n",
        "              s2_data = get_s2_image(aoi, start_date[season], end_date[season])\n",
        "              s2_data = s2_data.updateMask(tree_cover)\n",
        "              image = image.addBands(s2_data).select(s1_bands + s2_bands)\n",
        "              image = image.rename([band + '_kharif' for band in s1_bands + s2_bands])\n",
        "          except Exception as exp:\n",
        "              print(\"S2 Error occured: \", season, exp)\n",
        "\n",
        "          for season in ['rabi', 'zaid']:\n",
        "              try:\n",
        "                  s1_data = get_s1_image(aoi, start_date[season], end_date[season])\n",
        "                  s1_data = s1_data.updateMask(tree_cover)\n",
        "\n",
        "              except Exception as exp:\n",
        "                  print(\"S1 Error occured: \", season, exp)\n",
        "\n",
        "              try:\n",
        "                  s2_data = get_s2_image(aoi, start_date[season], end_date[season])\n",
        "                  s2_data = s2_data.updateMask(tree_cover)\n",
        "                  image_merged = s1_data.addBands(s2_data).select(s1_bands + s2_bands)\n",
        "                  image_merged = image_merged.rename([band + '_' + season for band in s1_bands + s2_bands])\n",
        "                  image = image.addBands(image_merged)\n",
        "\n",
        "              except Exception as exp:\n",
        "                  print(\"S2 Error occured: \", season, exp)\n",
        "\n",
        "          sample_points = image.sample(\n",
        "                  region = aoi,\n",
        "                  scale = 25,\n",
        "                  factor = 1,\n",
        "                  tileScale = 10,\n",
        "                  geometries = True\n",
        "              )\n",
        "\n",
        "          sample_tree_cover = tree_cover.sample(\n",
        "              region = aoi,\n",
        "              scale = 25,\n",
        "              factor = 1,\n",
        "              tileScale = 10,\n",
        "              geometries = True\n",
        "          )\n",
        "\n",
        "          try:\n",
        "              tree_points_list.append(sample_tree_cover.size().getInfo())\n",
        "          except:\n",
        "              tree_points_list.append(0)\n",
        "\n",
        "          try:\n",
        "              task = save_data_csv(sample_points, img_name, district, year)\n",
        "              prev_task = task\n",
        "              # tasks[year][district] = task\n",
        "\n",
        "          except Exception as e:\n",
        "              print(e)\n",
        "              while prev_task.status()['state'] != 'COMPLETED' and prev_task.status()['state'] != 'FAILED':\n",
        "                  # time.sleep(10)\n",
        "                  continue\n",
        "              task = save_data_csv(sample_points, img_name, path, year)\n",
        "              # tasks[year][district] = task\n",
        "              prev_task = task\n",
        "\n",
        "          i += 1\n",
        "\n",
        "      df['tree_points'] = tree_points_list\n",
        "      df.to_csv(path + 'tree_cover_points.csv', index=False)\n",
        "\n",
        "      dist_cnt += 1\n",
        "      end_time = time.time()\n",
        "\n",
        "      total_time += (end_time - start_time)\n",
        "      print(total_time)\n",
        "\n",
        "  print(\"Waiting for last task to be completed...\")\n",
        "  while prev_task.status()['state'] != 'COMPLETED' and prev_task.status()['state'] != 'FAILED':\n",
        "      continue\n",
        "  print(\"Last task completed!\")\n",
        "\n",
        "  total_time += (time.time() - end_time)\n",
        "  print(\"Total Time Taken:\", total_time)\n"
      ]
    }
  ],
  "metadata": {
    "accelerator": "GPU",
    "colab": {
      "collapsed_sections": [
        "w1gPbNBpWD2N",
        "yKI60nTu26a2"
      ],
      "gpuType": "A100",
      "machine_shape": "hm",
      "provenance": []
    },
    "kernelspec": {
      "display_name": "Python 3",
      "name": "python3"
    },
    "language_info": {
      "name": "python"
    }
  },
  "nbformat": 4,
  "nbformat_minor": 0
}