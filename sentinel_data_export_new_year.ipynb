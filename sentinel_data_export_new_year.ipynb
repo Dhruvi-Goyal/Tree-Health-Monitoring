{
  "nbformat": 4,
  "nbformat_minor": 0,
  "metadata": {
    "colab": {
      "provenance": []
    },
    "kernelspec": {
      "name": "python3",
      "display_name": "Python 3"
    },
    "language_info": {
      "name": "python"
    }
  },
  "cells": [
    {
      "cell_type": "markdown",
      "source": [
        "Whenever a new year's data has to be added, say for AY 2023, we will be performing DW corrections on 2022 data and 2021 data. So exporting of data will be done for AY 2021, AY 2022 and AY 2023"
      ],
      "metadata": {
        "id": "_pJY6yL4yjJg"
      }
    },
    {
      "cell_type": "code",
      "execution_count": null,
      "metadata": {
        "id": "d3mtvr5wq58I"
      },
      "outputs": [],
      "source": [
        "import pandas as pd\n",
        "from glob import glob\n",
        "import re\n",
        "import matplotlib.pyplot as plt\n",
        "import json\n",
        "import numpy as np\n",
        "from scipy import stats as st\n",
        "import ee\n",
        "import shapely.geometry\n",
        "from shapely.geometry import Point, Polygon\n",
        "import geopandas as gpd\n",
        "import fiona\n",
        "from math import sqrt\n",
        "from shapely import wkt\n",
        "import os\n",
        "import time\n",
        "import geemap"
      ]
    },
    {
      "cell_type": "code",
      "source": [
        "ee.Authenticate()\n",
        "ee.Initialize(project='ee-mtpictd')"
      ],
      "metadata": {
        "id": "f3ga7phUrEp2"
      },
      "execution_count": null,
      "outputs": []
    },
    {
      "cell_type": "code",
      "source": [
        "from google.colab import drive\n",
        "drive.mount('/content/drive')"
      ],
      "metadata": {
        "id": "BuU2R-IxrE9F"
      },
      "execution_count": null,
      "outputs": []
    },
    {
      "cell_type": "code",
      "source": [
        "year = 2023"
      ],
      "metadata": {
        "colab": {
          "base_uri": "https://localhost:8080/",
          "height": 17
        },
        "id": "dV1rD_kRrja7",
        "outputId": "2c65bc2a-d1d9-468a-f014-8d9b25950bca"
      },
      "execution_count": null,
      "outputs": [
        {
          "output_type": "display_data",
          "data": {
            "text/plain": [
              "<IPython.core.display.HTML object>"
            ],
            "text/html": [
              "\n",
              "            <style>\n",
              "                .geemap-dark {\n",
              "                    --jp-widgets-color: white;\n",
              "                    --jp-widgets-label-color: white;\n",
              "                    --jp-ui-font-color1: white;\n",
              "                    --jp-layout-color2: #454545;\n",
              "                    background-color: #383838;\n",
              "                }\n",
              "\n",
              "                .geemap-dark .jupyter-button {\n",
              "                    --jp-layout-color3: #383838;\n",
              "                }\n",
              "\n",
              "                .geemap-colab {\n",
              "                    background-color: var(--colab-primary-surface-color, white);\n",
              "                }\n",
              "\n",
              "                .geemap-colab .jupyter-button {\n",
              "                    --jp-layout-color3: var(--colab-primary-surface-color, white);\n",
              "                }\n",
              "            </style>\n",
              "            "
            ]
          },
          "metadata": {}
        }
      ]
    },
    {
      "cell_type": "code",
      "source": [
        "# Choose appropriate ACZ\n",
        "\n",
        "agroclimatic_zone = \"Eastern Plateau & Hills Region\"\n",
        "# agroclimatic_zone = \"Southern Plateau and Hills Region\"\n",
        "# agroclimatic_zone = \"East Coast Plains & Hills Region\"\n",
        "# agroclimatic_zone = \"Western Plateau and Hills Region\"\n",
        "# agroclimatic_zone = \"Central Plateau & Hills Region\"\n",
        "# agroclimatic_zone = \"Lower Gangetic Plain Region\"\n",
        "# agroclimatic_zone = \"Middle Gangetic Plain Region\"\n",
        "# agroclimatic_zone = \"Eastern Himalayan Region\"\n",
        "# agroclimatic_zone = \"Western Himalayan Region\"\n",
        "# agroclimatic_zone = \"Upper Gangetic Plain Region\"\n",
        "# agroclimatic_zone = \"Trans Gangetic Plain Region\"\n",
        "\n",
        "# agroclimatic_zone = \"West Coast Plains & Ghat Region\"\n",
        "# agroclimatic_zone = \"Gujarat Plains & Hills Region\"\n",
        "# agroclimatic_zone = \"Western Dry Region\""
      ],
      "metadata": {
        "id": "K5KpQzQcrGYd"
      },
      "execution_count": null,
      "outputs": []
    },
    {
      "cell_type": "code",
      "source": [
        "agroclimaticZone_acronym_dict = {'Eastern Plateau & Hills Region': 'EPAHR',\n",
        "                               'Southern Plateau & Hills Region': 'SPAHR',\n",
        "                               'East Coast Plains & Hills Region': 'ECPHR',\n",
        "                               'Western Plateau & Hills Region': 'WPAHR',\n",
        "                               'Central Plateau & Hills Region': 'CPAHR',\n",
        "                               'Lower Gangetic Plain Region': 'LGPR',\n",
        "                                'Middle Gangetic Plain Region': 'MGPR',\n",
        "                                'Eastern Himalayan Region': 'EHR',\n",
        "                                'Western Himalayan Region': 'WHR',\n",
        "                                'Upper Gangetic Plain Region': 'UGPR',\n",
        "                                'Trans Gangetic Plain Region': 'TGPR',\n",
        "                                'West Coast Plains & Ghat Region': 'WCPGR',\n",
        "                                'Gujarat Plains & Hills Region': 'GPHR',\n",
        "                                'Western Dry Region': 'WDR'}"
      ],
      "metadata": {
        "id": "BCsvuGV7rNS5"
      },
      "execution_count": null,
      "outputs": []
    },
    {
      "cell_type": "code",
      "source": [
        "india_boundary = ee.FeatureCollection(\"projects/ee-mtpictd/assets/harsh/Agroclimatic_regions\")\n",
        "agrozone = india_boundary.filter(ee.Filter.eq('regionname', agroclimatic_zone)).geometry()\n",
        "india_district_boundary = ee.FeatureCollection(\"projects/ee-indiasat/assets/india_district_boundaries\")"
      ],
      "metadata": {
        "id": "rqpQhlMdrPvI"
      },
      "execution_count": null,
      "outputs": []
    },
    {
      "cell_type": "code",
      "source": [
        "s1_bands = ['VV', 'VH', 'angle']\n",
        "s2_bands = ['B1','B2', 'B3', 'B4', 'B5', 'B6', 'B7', 'B8', 'B10', 'B11','B12']"
      ],
      "metadata": {
        "id": "cdghOEtTrVlG"
      },
      "execution_count": null,
      "outputs": []
    },
    {
      "cell_type": "code",
      "source": [
        "START_DATE = {year-2: {'kharif': str(year-2)+'-07-01', 'rabi': str(year-2)+'-11-01', 'zaid': str(year-1)+'-03-01'},\n",
        "              year-1: {'kharif': str(year-1)+'-07-01', 'rabi': str(year-1)+'-11-01', 'zaid': str(year)+'-03-01'},\n",
        "              year: {'kharif': str(year)+'-07-01', 'rabi': str(year)+'-11-01', 'zaid': str(year+1)+'-03-01'}}\n",
        "\n",
        "END_DATE = {year-2: {'kharif': str(year-2)+'-10-31', 'rabi': str(year-1)+'-02-28', 'zaid': str(year-1)+'-06-30'},\n",
        "            year-1: {'kharif': str(year-1)+'-10-31', 'rabi': str(year)+'-02-28', 'zaid': str(year)+'-06-30'},\n",
        "            year: {'kharif': str(year)+'-10-31', 'rabi': str(year+1)+'-02-28', 'zaid': str(year+1)+'-06-30'}}"
      ],
      "metadata": {
        "colab": {
          "base_uri": "https://localhost:8080/",
          "height": 17
        },
        "id": "DbPlZUgVroP6",
        "outputId": "102ee756-1927-403a-c9e1-14279a204e2f"
      },
      "execution_count": null,
      "outputs": [
        {
          "output_type": "display_data",
          "data": {
            "text/plain": [
              "<IPython.core.display.HTML object>"
            ],
            "text/html": [
              "\n",
              "            <style>\n",
              "                .geemap-dark {\n",
              "                    --jp-widgets-color: white;\n",
              "                    --jp-widgets-label-color: white;\n",
              "                    --jp-ui-font-color1: white;\n",
              "                    --jp-layout-color2: #454545;\n",
              "                    background-color: #383838;\n",
              "                }\n",
              "\n",
              "                .geemap-dark .jupyter-button {\n",
              "                    --jp-layout-color3: #383838;\n",
              "                }\n",
              "\n",
              "                .geemap-colab {\n",
              "                    background-color: var(--colab-primary-surface-color, white);\n",
              "                }\n",
              "\n",
              "                .geemap-colab .jupyter-button {\n",
              "                    --jp-layout-color3: var(--colab-primary-surface-color, white);\n",
              "                }\n",
              "            </style>\n",
              "            "
            ]
          },
          "metadata": {}
        }
      ]
    },
    {
      "cell_type": "code",
      "source": [
        "print(START_DATE)\n",
        "print(END_DATE)"
      ],
      "metadata": {
        "colab": {
          "base_uri": "https://localhost:8080/",
          "height": 72
        },
        "id": "iMc4afU_vLyO",
        "outputId": "2a78bc6b-d6d2-42d8-83fc-9f26af970312"
      },
      "execution_count": null,
      "outputs": [
        {
          "output_type": "display_data",
          "data": {
            "text/plain": [
              "<IPython.core.display.HTML object>"
            ],
            "text/html": [
              "\n",
              "            <style>\n",
              "                .geemap-dark {\n",
              "                    --jp-widgets-color: white;\n",
              "                    --jp-widgets-label-color: white;\n",
              "                    --jp-ui-font-color1: white;\n",
              "                    --jp-layout-color2: #454545;\n",
              "                    background-color: #383838;\n",
              "                }\n",
              "\n",
              "                .geemap-dark .jupyter-button {\n",
              "                    --jp-layout-color3: #383838;\n",
              "                }\n",
              "\n",
              "                .geemap-colab {\n",
              "                    background-color: var(--colab-primary-surface-color, white);\n",
              "                }\n",
              "\n",
              "                .geemap-colab .jupyter-button {\n",
              "                    --jp-layout-color3: var(--colab-primary-surface-color, white);\n",
              "                }\n",
              "            </style>\n",
              "            "
            ]
          },
          "metadata": {}
        },
        {
          "output_type": "stream",
          "name": "stdout",
          "text": [
            "{2021: {'kharif': '2021-07-01', 'rabi': '2021-11-01', 'zaid': '2022-03-01'}, 2022: {'kharif': '2022-07-01', 'rabi': '2022-11-01', 'zaid': '2023-03-01'}, 2023: {'kharif': '2023-07-01', 'rabi': '2023-11-01', 'zaid': '2024-03-01'}}\n",
            "{2021: {'kharif': '2021-10-31', 'rabi': '2022-02-28', 'zaid': '2022-06-30'}, 2022: {'kharif': '2022-10-31', 'rabi': '2023-02-28', 'zaid': '2023-06-30'}, 2023: {'kharif': '2023-10-31', 'rabi': '2024-02-28', 'zaid': '2024-06-30'}}\n"
          ]
        }
      ]
    },
    {
      "cell_type": "code",
      "source": [
        "# Will take an AOI geometry as input and return the 10km x 10km grids in it as a list\n",
        "def createGrids(aoi):\n",
        "    proj = ee.Projection('EPSG:4326')\n",
        "    gridSize = 10000\n",
        "    grid = aoi.coveringGrid(proj, gridSize)\n",
        "    features = grid.getInfo()['features']\n",
        "    return features"
      ],
      "metadata": {
        "id": "r3G41xr0rTMx"
      },
      "execution_count": null,
      "outputs": []
    },
    {
      "cell_type": "code",
      "source": [
        "def s2_mask(image):\n",
        "  \"\"\"\n",
        "  Getting a cloud-free Sentinel-2 imagery.\n",
        "  \"\"\"\n",
        "  quality_band = image.select('QA60')\n",
        "  # Using the bit mask for clouds (bit 10) and cirrus clouds (bit 11) respectively.\n",
        "  cloudmask = 1 << 10\n",
        "  cirrusmask = 1 << 11\n",
        "  # Both flags should be set to zero, indicating clear conditions of sky.\n",
        "  mask = quality_band.bitwiseAnd(cloudmask).eq(0) and (quality_band.bitwiseAnd(cirrusmask).eq(0))\n",
        "  return image.updateMask(mask)\n",
        "\n",
        "def get_s2_image(aoi, start_date, end_date):\n",
        "  # s2_bands_season = [band + '_med_' + season for band in s2_bands]\n",
        "  return ee.ImageCollection('COPERNICUS/S2_HARMONIZED').filterDate(\n",
        "      start_date , end_date).filterBounds(aoi).filter(\n",
        "          ee.Filter.lt(\"CLOUDY_PIXEL_PERCENTAGE\", 1)).sort('CLOUD_COVER').map(\n",
        "              s2_mask).select(s2_bands).median().divide(10000).clip(aoi)\n",
        "\n",
        "def get_s1_image(aoi, start_date, end_date):\n",
        "  # s1_bands_season = [band + '_' + season for band in s1_bands]\n",
        "  return ee.ImageCollection('COPERNICUS/S1_GRD').filterDate(start_date , end_date).filterBounds(aoi).filter(\n",
        "      ee.Filter.listContains('transmitterReceiverPolarisation', 'VV')).filter(\n",
        "          ee.Filter.listContains('transmitterReceiverPolarisation', 'VH')).filter(\n",
        "              ee.Filter.eq('instrumentMode', 'IW')).select(s1_bands).median().clip(aoi)"
      ],
      "metadata": {
        "id": "Eg-75uuArbdS"
      },
      "execution_count": null,
      "outputs": []
    },
    {
      "cell_type": "code",
      "source": [
        "def save_data_csv(data_points, img_name, district, year):\n",
        "  new_img_name = img_name.replace('&', 'and')\n",
        "  new_img_name = new_img_name.replace('(', '')\n",
        "  new_img_name = new_img_name.replace(')', '')\n",
        "  task = ee.batch.Export.table.toDrive(\n",
        "      collection = data_points,\n",
        "      description = new_img_name,\n",
        "      folder = f\"{agroclimaticZone_acronym_dict[agroclimatic_zone]}_{district}_{year}\",\n",
        "      fileNamePrefix = img_name,\n",
        "      fileFormat = 'CSV'\n",
        "      )\n",
        "  task.start()\n",
        "  return task"
      ],
      "metadata": {
        "id": "26vLGR2Mrb2w"
      },
      "execution_count": null,
      "outputs": []
    },
    {
      "cell_type": "code",
      "source": [
        "df = pd.read_csv(f'drive/MyDrive/harsh/{agroclimatic_zone}.csv')\n",
        "dist_list = list(df['Name'])"
      ],
      "metadata": {
        "id": "3UL08RFBs8XE"
      },
      "execution_count": null,
      "outputs": []
    },
    {
      "cell_type": "code",
      "source": [
        "years = [str(year-2), str(year-1), str(year)]\n",
        "year_0 = years[0]\n",
        "year_1 = years[1]\n",
        "year_2 = years[2]\n",
        "year_suffix = {year_0: year_0[-2:], year_1: year_1[-2:], year_2: year_2[-2:]}"
      ],
      "metadata": {
        "colab": {
          "base_uri": "https://localhost:8080/",
          "height": 17
        },
        "id": "4CfoJETyuO7E",
        "outputId": "b8805c88-3e54-4631-d9ad-6713079aabfe"
      },
      "execution_count": null,
      "outputs": [
        {
          "output_type": "display_data",
          "data": {
            "text/plain": [
              "<IPython.core.display.HTML object>"
            ],
            "text/html": [
              "\n",
              "            <style>\n",
              "                .geemap-dark {\n",
              "                    --jp-widgets-color: white;\n",
              "                    --jp-widgets-label-color: white;\n",
              "                    --jp-ui-font-color1: white;\n",
              "                    --jp-layout-color2: #454545;\n",
              "                    background-color: #383838;\n",
              "                }\n",
              "\n",
              "                .geemap-dark .jupyter-button {\n",
              "                    --jp-layout-color3: #383838;\n",
              "                }\n",
              "\n",
              "                .geemap-colab {\n",
              "                    background-color: var(--colab-primary-surface-color, white);\n",
              "                }\n",
              "\n",
              "                .geemap-colab .jupyter-button {\n",
              "                    --jp-layout-color3: var(--colab-primary-surface-color, white);\n",
              "                }\n",
              "            </style>\n",
              "            "
            ]
          },
          "metadata": {}
        }
      ]
    },
    {
      "cell_type": "code",
      "source": [
        "for year in years:\n",
        "\n",
        "    total_time = 0\n",
        "\n",
        "    dist_cnt = 0\n",
        "    for district in dist_list:\n",
        "\n",
        "        # if dist_cnt < 3:\n",
        "        #     dist_cnt += 1\n",
        "        #     continue\n",
        "\n",
        "        start_time = time.time()\n",
        "\n",
        "        district_aoi = india_district_boundary.filter(ee.Filter.eq('Name', district)).geometry()\n",
        "        district_aoi = district_aoi.intersection(agrozone)\n",
        "        features = createGrids(district_aoi)\n",
        "\n",
        "        print(f'Year {year}, District {dist_cnt}: {district}, grids: {len(features)}')\n",
        "\n",
        "        path = f'drive/MyDrive/{agroclimatic_zone}/{district}/{year}/'\n",
        "        if not os.path.exists(path):\n",
        "            os.makedirs(path)\n",
        "\n",
        "        df = pd.DataFrame()\n",
        "        df['grid_num'] = list(range(len(features)))\n",
        "        tree_points_list = []\n",
        "\n",
        "        i = 0\n",
        "        for feature in features:\n",
        "            print(f'Grid {i}')\n",
        "\n",
        "            coord = feature['geometry']['coordinates'][0]\n",
        "            aoi = ee.Geometry.Polygon(coord)\n",
        "            aoi = aoi.intersection(district_aoi)\n",
        "\n",
        "            img_name = district + \"_\" + str(i) + \"_\" + year\n",
        "\n",
        "            start_date = START_DATE[year]\n",
        "            end_date = END_DATE[year]\n",
        "\n",
        "            if year == year_2:\n",
        "                tree_cover = ee.ImageCollection(\"GOOGLE/DYNAMICWORLD/V1\") \\\n",
        "                    .filterDate(min(start_date.values()), max(end_date.values())) \\\n",
        "                    .filterBounds(aoi) \\\n",
        "                    .select('label') \\\n",
        "                    .mode() \\\n",
        "                    .clip(aoi)\n",
        "                tree_cover = tree_cover.updateMask(tree_cover.eq(1))\n",
        "                tree_cover = tree_cover.reproject(crs='EPSG:4326', scale=25)\n",
        "\n",
        "            else:\n",
        "                # For corrected DW layers\n",
        "                tree_cover = ee.ImageCollection(f'projects/ee-mtpictd/assets/harsh/dw_corrected_{year}') \\\n",
        "                    .filterBounds(aoi) \\\n",
        "                    .select(f'label_{year_suffix[year]}') \\\n",
        "                    .mode() \\\n",
        "                    .clip(aoi)\n",
        "                tree_cover = tree_cover.updateMask(tree_cover.eq(1))\n",
        "                tree_cover = tree_cover.reproject(crs='EPSG:4326', scale=25)\n",
        "\n",
        "            season = 'kharif'\n",
        "\n",
        "            try:\n",
        "                image = get_s1_image(aoi, start_date[season], end_date[season])\n",
        "                image = image.updateMask(tree_cover)\n",
        "\n",
        "            except Exception as exp:\n",
        "                print(\"S1 Error occured: \", season, exp)\n",
        "\n",
        "            try:\n",
        "                s2_data = get_s2_image(aoi, start_date[season], end_date[season])\n",
        "                s2_data = s2_data.updateMask(tree_cover)\n",
        "                image = image.addBands(s2_data).select(s1_bands + s2_bands)\n",
        "                image = image.rename([band + '_kharif' for band in s1_bands + s2_bands])\n",
        "                # image = tree_cover.addBands(image)\n",
        "\n",
        "            except Exception as exp:\n",
        "                print(\"S2 Error occured: \", season, exp)\n",
        "\n",
        "            for season in ['rabi', 'zaid']:\n",
        "                try:\n",
        "                    s1_data = get_s1_image(aoi, start_date[season], end_date[season])\n",
        "                    s1_data = s1_data.updateMask(tree_cover)\n",
        "\n",
        "                except Exception as exp:\n",
        "                    print(\"S1 Error occured: \", season, exp)\n",
        "\n",
        "                try:\n",
        "                    s2_data = get_s2_image(aoi, start_date[season], end_date[season])\n",
        "                    s2_data = s2_data.updateMask(tree_cover)\n",
        "                    image_merged = s1_data.addBands(s2_data).select(s1_bands + s2_bands)\n",
        "                    image_merged = image_merged.rename([band + '_' + season for band in s1_bands + s2_bands])\n",
        "                    image = image.addBands(image_merged)\n",
        "\n",
        "                except Exception as exp:\n",
        "                    print(\"S2 Error occured: \", season, exp)\n",
        "\n",
        "            sample_points = image.sample(\n",
        "                    region = aoi,\n",
        "                    scale = 25,\n",
        "                    factor = 1,\n",
        "                    tileScale = 10,\n",
        "                    geometries = True\n",
        "                )\n",
        "\n",
        "            sample_tree_cover = tree_cover.sample(\n",
        "                region = aoi,\n",
        "                scale = 25,\n",
        "                factor = 1,\n",
        "                tileScale = 10,\n",
        "                geometries = True\n",
        "            )\n",
        "\n",
        "            try:\n",
        "                tree_points_list.append(sample_tree_cover.size().getInfo())\n",
        "            except:\n",
        "                tree_points_list.append(0)\n",
        "\n",
        "            try:\n",
        "                task = save_data_csv(sample_points, img_name, district, year)\n",
        "                prev_task = task\n",
        "                # tasks[year][district] = task\n",
        "\n",
        "            except Exception as e:\n",
        "                print(e)\n",
        "                while prev_task.status()['state'] != 'COMPLETED' and prev_task.status()['state'] != 'FAILED':\n",
        "                    # time.sleep(10)\n",
        "                    continue\n",
        "                task = save_data_csv(sample_points, img_name, path, year)\n",
        "                # tasks[year][district] = task\n",
        "                prev_task = task\n",
        "\n",
        "            i += 1\n",
        "\n",
        "        df['tree_points'] = tree_points_list\n",
        "        df.to_csv(path + 'tree_cover_points.csv', index=False)\n",
        "\n",
        "        dist_cnt += 1\n",
        "        end_time = time.time()\n",
        "\n",
        "        total_time += (end_time - start_time)\n",
        "        print(total_time)\n",
        "\n",
        "    print(\"Waiting for last task to be completed...\")\n",
        "    while prev_task.status()['state'] != 'COMPLETED' and prev_task.status()['state'] != 'FAILED':\n",
        "        continue\n",
        "    print(\"Last task completed!\")\n",
        "\n",
        "    total_time += (time.time() - end_time)\n",
        "    print(\"Total Time Taken:\", total_time)\n"
      ],
      "metadata": {
        "id": "8ZLOP9fKs-9k"
      },
      "execution_count": null,
      "outputs": []
    }
  ]
}