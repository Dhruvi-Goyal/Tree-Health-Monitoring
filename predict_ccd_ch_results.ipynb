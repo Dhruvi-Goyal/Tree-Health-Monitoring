{
  "nbformat": 4,
  "nbformat_minor": 0,
  "metadata": {
    "colab": {
      "provenance": [],
      "collapsed_sections": [
        "oI9H1zqkReeq",
        "Whz5urjtV4xi",
        "BxZUdDh6XlIW"
      ]
    },
    "kernelspec": {
      "name": "python3",
      "display_name": "Python 3"
    },
    "language_info": {
      "name": "python"
    }
  },
  "cells": [
    {
      "cell_type": "code",
      "execution_count": null,
      "metadata": {
        "id": "Ab7OBW4fQ7yP"
      },
      "outputs": [],
      "source": [
        "from google.colab import drive\n",
        "drive.mount('/content/drive')"
      ]
    },
    {
      "cell_type": "code",
      "source": [
        "import pandas as pd\n",
        "from glob import glob\n",
        "import joblib\n",
        "import json\n",
        "import time\n",
        "from copy import deepcopy\n",
        "import os\n",
        "import re\n",
        "import numpy as np\n",
        "import ee\n",
        "import ast"
      ],
      "metadata": {
        "id": "mKWmJCQFRCaD"
      },
      "execution_count": null,
      "outputs": []
    },
    {
      "cell_type": "code",
      "source": [
        "agroclimaticZone_acronym_dict = {'Eastern Plateau & Hills Region': 'EPAHR',\n",
        "                               'Southern Plateau and Hills Region': 'SPAHR',\n",
        "                               'East Coast Plains & Hills Region': 'ECPHR',\n",
        "                               'Western Plateau and Hills Region': 'WPAHR',\n",
        "                               'Central Plateau & Hills Region': 'CPAHR',\n",
        "                               'Lower Gangetic Plain Region': 'LGPR',\n",
        "                                'Middle Gangetic Plain Region': 'MGPR',\n",
        "                                'Eastern Himalayan Region': 'EHR',\n",
        "                                'Western Himalayan Region': 'WHR',\n",
        "                                'Upper Gangetic Plain Region': 'UGPR',\n",
        "                                'Trans Gangetic Plain Region': 'TGPR',\n",
        "                                'West Coast Plains & Ghat Region': 'WCPGR',\n",
        "                                'Gujarat Plains & Hills Region': 'GPHR',\n",
        "                                'Western Dry Region': 'WDR'}"
      ],
      "metadata": {
        "id": "g-_NsctFRGXA"
      },
      "execution_count": null,
      "outputs": []
    },
    {
      "cell_type": "code",
      "source": [
        "best_month_dict = {'Eastern Plateau & Hills Region': 'cc_12',\n",
        "                   'Middle Gangetic Plain Region': 'cc_10',\n",
        "                   'Lower Gangetic Plain Region': 'cc_9',\n",
        "                   'Western Himalayan Region': 'cc_8',\n",
        "                   'Eastern Himalayan Region': 'cc_10',\n",
        "                   'Upper Gangetic Plain Region': 'cc_9',\n",
        "                   'Trans Gangetic Plain Region': 'cc_9',\n",
        "                   'Central Plateau & Hills Region': 'cc_7',\n",
        "                   'Western Plateau and Hills Region': 'cc_11',\n",
        "                   'Southern Plateau and Hills Region': 'cc_8',\n",
        "                   'East Coast Plains & Hills Region': 'cc_12'}"
      ],
      "metadata": {
        "id": "PMyNbPBIRHNL"
      },
      "execution_count": null,
      "outputs": []
    },
    {
      "cell_type": "markdown",
      "source": [
        "Rename the folders correctly before predicting. Sometimes some bug from GEE and Google Drive causes multiple copies of the same folder to be created and splits files between the 2 folders"
      ],
      "metadata": {
        "id": "ljG3d7ArRPWk"
      }
    },
    {
      "cell_type": "markdown",
      "source": [
        "## Rename"
      ],
      "metadata": {
        "id": "oI9H1zqkReeq"
      }
    },
    {
      "cell_type": "code",
      "source": [
        "agroclimatic_zone = 'Southern Plateau and Hills Region'\n",
        "# agroclimatic_zone = 'Eastern Plateau & Hills Region'\n",
        "# agroclimatic_zone = \"East Coast Plains & Hills Region\"\n",
        "# agroclimatic_zone = 'Western Plateau and Hills Region'\n",
        "# agroclimatic_zone = \"Central Plateau & Hills Region\"\n",
        "# agroclimatic_zone = 'Lower Gangetic Plain Region'\n",
        "# agroclimatic_zone = 'Middle Gangetic Plain Region'\n",
        "# agroclimatic_zone = 'Eastern Himalayan Region'\n",
        "# agroclimatic_zone = 'Western Himalayan Region'\n",
        "# agroclimatic_zone = 'Trans Gangetic Plain Region'\n",
        "# agroclimatic_zone = 'Gujarat Plains & Hills Region'\n",
        "# agroclimatic_zone = 'Western Dry Region'"
      ],
      "metadata": {
        "id": "nOuqdiPYV7F0"
      },
      "execution_count": null,
      "outputs": []
    },
    {
      "cell_type": "code",
      "source": [
        "# Set the list of years for which to rename folders\n",
        "years = ['2023']"
      ],
      "metadata": {
        "id": "lB1-_D9uWFHq"
      },
      "execution_count": null,
      "outputs": []
    },
    {
      "cell_type": "code",
      "source": [
        "df = pd.read_csv(f'drive/MyDrive/harsh/{agroclimatic_zone}.csv')\n",
        "dist_list = list(df['Name'])"
      ],
      "metadata": {
        "id": "vWoPO6xdV-qe"
      },
      "execution_count": null,
      "outputs": []
    },
    {
      "cell_type": "code",
      "source": [
        "# Set the root directory to the specified folder\n",
        "root_dir = '/content/drive/MyDrive/'\n",
        "os.chdir(root_dir)"
      ],
      "metadata": {
        "id": "oj_JyuWcWKha"
      },
      "execution_count": null,
      "outputs": []
    },
    {
      "cell_type": "code",
      "source": [
        "! pwd"
      ],
      "metadata": {
        "id": "ASxXPS0SWBr_"
      },
      "execution_count": null,
      "outputs": []
    },
    {
      "cell_type": "code",
      "source": [
        "# Get the current directory\n",
        "current_directory = os.getcwd()\n",
        "\n",
        "# List all folders in the current directory\n",
        "folders = [f for f in os.listdir(current_directory) if os.path.isdir(os.path.join(current_directory, f))]\n",
        "\n",
        "# Print the list of folders\n",
        "# print(\"Folders in the current directory:\")\n",
        "\n",
        "# for folder in folders:\n",
        "#     print(folder)"
      ],
      "metadata": {
        "id": "fi2H0p6iWSSO"
      },
      "execution_count": null,
      "outputs": []
    },
    {
      "cell_type": "code",
      "source": [
        "# Regular expression pattern to match folder names starting with a particular pattern\n",
        "pattern = re.compile(r'^' + f'{agroclimaticZone_acronym_dict[agroclimatic_zone]}')\n",
        "\n",
        "# Filter folders based on the pattern\n",
        "matching_folders = [folder for folder in folders if pattern.match(folder)]\n",
        "\n",
        "# Print the matching folders\n",
        "print(f\"Folders starting with '{agroclimaticZone_acronym_dict[agroclimatic_zone]}':\")\n",
        "for folder in matching_folders:\n",
        "    print(folder)"
      ],
      "metadata": {
        "id": "ySVXmQ6OWT_q"
      },
      "execution_count": null,
      "outputs": []
    },
    {
      "cell_type": "code",
      "source": [
        "# Leh (Ladkh) is the only district encountered having special character '(' and ')' in it. That's why its handled in a special way as seen here\n",
        "\n",
        "# Transfer files from duplicate folders to original folder\n",
        "\n",
        "dist_num = 0\n",
        "for district in dist_list:\n",
        "    print(dist_num)\n",
        "    for year in years:\n",
        "        print(district, year)\n",
        "\n",
        "        orig_district = district\n",
        "        if district == 'Leh (Ladakh)':\n",
        "            district = 'Leh \\(Ladakh\\)'\n",
        "\n",
        "        pattern = re.compile(r'^' + agroclimaticZone_acronym_dict[agroclimatic_zone] + '_' + district + '_' + year)\n",
        "        district_year_folders = [folder for folder in matching_folders if pattern.match(folder)]\n",
        "\n",
        "        district = orig_district\n",
        "\n",
        "        while len(district_year_folders) > 1:\n",
        "            source_folder = district_year_folders[0]\n",
        "            destination_folder = district_year_folders[1]\n",
        "\n",
        "            files_to_move = os.listdir(source_folder)\n",
        "            for file_name in files_to_move:\n",
        "                source_path = os.path.join(source_folder, file_name)\n",
        "                destination_path = os.path.join(destination_folder, file_name)\n",
        "                os.rename(source_path, destination_path)\n",
        "\n",
        "            del district_year_folders[0]\n",
        "\n",
        "        current_folder_name = district_year_folders[0]\n",
        "        new_folder_name = f'{agroclimaticZone_acronym_dict[agroclimatic_zone]}_{district}_{year}'\n",
        "        os.rename(current_folder_name, new_folder_name)\n",
        "\n",
        "    dist_num += 1"
      ],
      "metadata": {
        "id": "B5mnjLppWf1u"
      },
      "execution_count": null,
      "outputs": []
    },
    {
      "cell_type": "code",
      "source": [
        "# Leh (Ladkh) is the only district encountered having special character '(' and ')' in it. That's why its handled in a special way as seen here\n",
        "\n",
        "# Check all folders with more than 0 files\n",
        "dist_num = 0\n",
        "for district in dist_list:\n",
        "    print(dist_num)\n",
        "    for year in years:\n",
        "\n",
        "        orig_district = district\n",
        "        if district == 'Leh (Ladakh)':\n",
        "            district = 'Leh \\(Ladakh\\)'\n",
        "\n",
        "        pattern = re.compile(r'^' + agroclimaticZone_acronym_dict[agroclimatic_zone] + '_' + district + '_' + year)\n",
        "        district_year_folders = [folder for folder in matching_folders if pattern.match(folder)]\n",
        "\n",
        "        district = orig_district\n",
        "\n",
        "        for folder in district_year_folders:\n",
        "            if len(os.listdir(folder)) > 0:\n",
        "                print(folder)\n",
        "\n",
        "    dist_num += 1"
      ],
      "metadata": {
        "id": "z6Bey7TQWiDY"
      },
      "execution_count": null,
      "outputs": []
    },
    {
      "cell_type": "code",
      "source": [
        "# Change back to parent directory\n",
        "os.chdir(os.path.dirname(os.getcwd()))"
      ],
      "metadata": {
        "id": "nFLXDFDTWuDt"
      },
      "execution_count": null,
      "outputs": []
    },
    {
      "cell_type": "code",
      "source": [
        "! pwd"
      ],
      "metadata": {
        "id": "Dfvz4ZiWWwqF"
      },
      "execution_count": null,
      "outputs": []
    },
    {
      "cell_type": "markdown",
      "source": [
        "## CHM"
      ],
      "metadata": {
        "id": "Whz5urjtV4xi"
      }
    },
    {
      "cell_type": "code",
      "source": [
        "# agroclimatic_zone = 'Eastern Plateau & Hills Region'\n",
        "agroclimatic_zone = 'Southern Plateau and Hills Region'\n",
        "# agroclimatic_zone = 'East Coast Plains & Hills Region'\n",
        "# agroclimatic_zone = 'Western Plateau and Hills Region'\n",
        "# agroclimatic_zone = 'Central Plateau & Hills Region'\n",
        "# agroclimatic_zone = 'Lower Gangetic Plain Region'\n",
        "# agroclimatic_zone = 'Middle Gangetic Plain Region'\n",
        "# agroclimatic_zone = 'Trans Gangetic Plain Region'\n",
        "# agroclimatic_zone = 'Upper Gangetic Plain Region'\n",
        "# agroclimatic_zone = 'Western Himalayan Region'\n",
        "# agroclimatic_zone = 'Eastern Himalayan Region'"
      ],
      "metadata": {
        "id": "SyWVQtkcRdJm"
      },
      "execution_count": null,
      "outputs": []
    },
    {
      "cell_type": "code",
      "source": [
        "# Set the list of years for which to compute result\n",
        "years = ['2021', '2022', '2023']"
      ],
      "metadata": {
        "id": "M5TBAFrJXGHU"
      },
      "execution_count": null,
      "outputs": []
    },
    {
      "cell_type": "code",
      "source": [
        "df = pd.read_csv('drive/MyDrive/harsh/district_to_agroclimaticZone_mapping.csv')"
      ],
      "metadata": {
        "id": "0k7-ZIncRsZs"
      },
      "execution_count": null,
      "outputs": []
    },
    {
      "cell_type": "code",
      "source": [
        "# Function to convert string representation of list to an actual list\n",
        "def convert_to_list(string):\n",
        "    return ast.literal_eval(string)\n",
        "\n",
        "df['IntersectingZones'] = df['IntersectingZones'].apply(convert_to_list)"
      ],
      "metadata": {
        "id": "rur4JwZOR4lV"
      },
      "execution_count": null,
      "outputs": []
    },
    {
      "cell_type": "code",
      "source": [
        "district_mapping_df = df[df['AgroclimaticZone'] == agroclimatic_zone][['District', 'IntersectingZones']]"
      ],
      "metadata": {
        "id": "XEGzdLpISAQy"
      },
      "execution_count": null,
      "outputs": []
    },
    {
      "cell_type": "code",
      "source": [
        "# print(district_mapping_df['IntersectingZones'][165])\n",
        "# district_mapping_df['IntersectingZones']\n",
        "i = 0\n",
        "for ind in district_mapping_df.index:\n",
        "    district = district_mapping_df.loc[ind, 'District']\n",
        "    zones = district_mapping_df['IntersectingZones'][ind]\n",
        "    print(i, district, zones)\n",
        "    i += 1\n",
        "    # for zone in zones:\n",
        "    #     if zone not in agroclimaticZone_acronym_dict:\n",
        "    #         print(district, zone)"
      ],
      "metadata": {
        "id": "5tN_fdL1SDAP"
      },
      "execution_count": null,
      "outputs": []
    },
    {
      "cell_type": "code",
      "source": [
        "agroclimatic_zone_model_path_mapping_rh98 = {'Eastern Plateau & Hills Region': 'drive/MyDrive/dhruvi/best_models/chm_final/Eastern_Plateau_Hills_Region_correct_toa_rh98_24.joblib',\n",
        "                                             'East Coast Plains & Hills Region': 'drive/MyDrive/dhruvi/best_models/chm_final/East_Coast_Plains_Hills_Region_correct_toa_rh98_23.joblib',\n",
        "                                             'Western Himalayan Region': 'drive/MyDrive/dhruvi/best_models/chm_final/Western_Himalayan_Region_correct_toa_rh98_30.joblib',\n",
        "                                             'Eastern Himalayan Region': 'drive/MyDrive/dhruvi/best_models/chm_final/Eastern_Himalayan_Region_correct_toa_rh98_25.joblib',\n",
        "                                             'Central Plateau & Hills Region': 'drive/MyDrive/dhruvi/best_models/chm_final/Central_Plateau_Hills_Region_correct_toa_rh98_23.joblib',\n",
        "                                             'Southern Plateau and Hills Region': 'drive/MyDrive/dhruvi/best_models/chm_final/Southern_Plateau_and_Hills_Region_correct_toa_rh98_23.joblib',\n",
        "                                             'Western Plateau and Hills Region': 'drive/MyDrive/dhruvi/best_models/chm_final/Western_Plateau_and_Hills_Region_correct_toa_rh98_24.joblib',\n",
        "                                             'Upper Gangetic Plain Region': 'drive/MyDrive/dhruvi/best_models/chm_final/Upper_Gangetic_Plain_Region_correct_toa_rh98_29.joblib',\n",
        "                                             'Middle Gangetic Plain Region': 'drive/MyDrive/dhruvi/best_models/chm_final/Middle_Gangetic_Plain_Region_correct_toa_rh98_24.joblib',\n",
        "                                             'Trans Gangetic Plain Region': 'drive/MyDrive/dhruvi/best_models/chm_final/Trans_Gangetic_Plain_Region_correct_toa_rh98_21.joblib',\n",
        "                                             'Lower Gangetic Plain Region': 'drive/MyDrive/dhruvi/best_models/chm_final/Lower_Gangetic_Plain_Region_correct_toa_rh98_17.joblib'}\n",
        "\n",
        "agroclimatic_zone_model_path_mapping_rh75 = {'Eastern Plateau & Hills Region': 'drive/MyDrive/dhruvi/best_models/chm_final/Eastern_Plateau_Hills_Region_correct_toa_rh75_17.joblib',\n",
        "                                             'East Coast Plains & Hills Region': 'drive/MyDrive/dhruvi/best_models/chm_final/East_Coast_Plains_Hills_Region_correct_toa_rh75_16.joblib',\n",
        "                                             'Western Himalayan Region': 'drive/MyDrive/dhruvi/best_models/chm_final/Western_Himalayan_Region_correct_toa_rh75_20.joblib',\n",
        "                                             'Eastern Himalayan Region': 'drive/MyDrive/dhruvi/best_models/chm_final/Eastern_Himalayan_Region_correct_toa_rh75_18.joblib',\n",
        "                                             'Central Plateau & Hills Region': 'drive/MyDrive/dhruvi/best_models/chm_final/Central_Plateau_Hills_Region_correct_toa_rh75_16.joblib',\n",
        "                                             'Southern Plateau and Hills Region': 'drive/MyDrive/dhruvi/best_models/chm_final/Southern_Plateau_and_Hills_Region_correct_toa_rh75_16.joblib',\n",
        "                                             'Western Plateau and Hills Region': 'drive/MyDrive/dhruvi/best_models/chm_final/Western_Plateau_and_Hills_Region_correct_toa_rh75_17.joblib',\n",
        "                                             'Upper Gangetic Plain Region': 'drive/MyDrive/dhruvi/best_models/chm_final/Upper_Gangetic_Plain_Region_correct_toa_rh75_22.joblib',\n",
        "                                             'Middle Gangetic Plain Region': 'drive/MyDrive/dhruvi/best_models/chm_final/Middle_Gangetic_Plain_Region_correct_toa_rh75_17.joblib',\n",
        "                                             'Trans Gangetic Plain Region': 'drive/MyDrive/dhruvi/best_models/chm_final/Trans_Gangetic_Plain_Region_correct_toa_rh75_15.joblib',\n",
        "                                             'Lower Gangetic Plain Region': 'drive/MyDrive/dhruvi/best_models/chm_final/Lower_Gangetic_Plain_Region_correct_toa_rh75_12.joblib'}\n",
        "\n",
        "agroclimatic_zone_model_path_mapping_rh50 = {'Eastern Plateau & Hills Region': 'drive/MyDrive/dhruvi/best_models/chm_final/Eastern_Plateau_Hills_Region_correct_toa_rh50_12.joblib',\n",
        "                                             'East Coast Plains & Hills Region': 'drive/MyDrive/dhruvi/best_models/chm_final/East_Coast_Plains_Hills_Region_correct_toa_rh50_12.joblib',\n",
        "                                             'Western Himalayan Region': 'drive/MyDrive/dhruvi/best_models/chm_final/Western_Himalayan_Region_correct_toa_rh50_14.joblib',\n",
        "                                             'Eastern Himalayan Region': 'drive/MyDrive/dhruvi/best_models/chm_final/Eastern_Himalayan_Region_correct_toa_rh50_13.joblib',\n",
        "                                             'Central Plateau & Hills Region': 'drive/MyDrive/dhruvi/best_models/chm_final/Central_Plateau_Hills_Region_correct_toa_rh50_11.joblib',\n",
        "                                             'Southern Plateau and Hills Region': 'drive/MyDrive/dhruvi/best_models/chm_final/Southern_Plateau_and_Hills_Region_correct_toa_rh50_12.joblib',\n",
        "                                             'Western Plateau and Hills Region': 'drive/MyDrive/dhruvi/best_models/chm_final/Western_Plateau_and_Hills_Region_correct_toa_rh50_12.joblib',\n",
        "                                             'Upper Gangetic Plain Region': 'drive/MyDrive/dhruvi/best_models/chm_final/Upper_Gangetic_Plain_Region_correct_toa_rh50_17.joblib',\n",
        "                                             'Middle Gangetic Plain Region': 'drive/MyDrive/dhruvi/best_models/chm_final/Middle_Gangetic_Plain_Region_correct_toa_rh50_12.joblib',\n",
        "                                             'Trans Gangetic Plain Region': 'drive/MyDrive/dhruvi/best_models/chm_final/Trans_Gangetic_Plain_Region_correct_toa_rh50_11.joblib',\n",
        "                                             'Lower Gangetic Plain Region': 'drive/MyDrive/dhruvi/best_models/chm_final/Lower_Gangetic_Plain_Region_correct_toa_rh50_9.joblib'}"
      ],
      "metadata": {
        "id": "pFuZP9f6VFH2"
      },
      "execution_count": null,
      "outputs": []
    },
    {
      "cell_type": "code",
      "source": [
        "MODEL_PATH_rh98 = agroclimatic_zone_model_path_mapping_rh98[agroclimatic_zone]\n",
        "model_rh98 = joblib.load(MODEL_PATH_rh98)\n",
        "\n",
        "MODEL_PATH_rh75 = agroclimatic_zone_model_path_mapping_rh75[agroclimatic_zone]\n",
        "model_rh75 = joblib.load(MODEL_PATH_rh75)\n",
        "\n",
        "MODEL_PATH_rh50 = agroclimatic_zone_model_path_mapping_rh50[agroclimatic_zone]\n",
        "model_rh50 = joblib.load(MODEL_PATH_rh50)"
      ],
      "metadata": {
        "id": "xqD615gMVFjh"
      },
      "execution_count": null,
      "outputs": []
    },
    {
      "cell_type": "code",
      "source": [
        "if hasattr(model_rh98, 'feature_names_in_'):\n",
        "    features_rh98 = model_rh98.feature_names_in_\n",
        "\n",
        "if hasattr(model_rh75, 'feature_names_in_'):\n",
        "    features_rh75 = model_rh75.feature_names_in_\n",
        "\n",
        "if hasattr(model_rh50, 'feature_names_in_'):\n",
        "    features_rh50 = model_rh50.feature_names_in_"
      ],
      "metadata": {
        "id": "9XKuPHsxVJjM"
      },
      "execution_count": null,
      "outputs": []
    },
    {
      "cell_type": "code",
      "source": [
        "seasons = ['kharif', 'rabi', 'zaid']"
      ],
      "metadata": {
        "id": "Ssl2HAxTVLMP"
      },
      "execution_count": null,
      "outputs": []
    },
    {
      "cell_type": "code",
      "source": [
        "def add_s1_indices(df):\n",
        "    for season in seasons:\n",
        "        # SAR Indices\n",
        "        df[f'VV_VH_Ratio_{season}'] = df[f'VV_{season}'] / df[f'VH_{season}']\n",
        "        df[f'VH_VV_Ratio_{season}'] = df[f'VH_{season}'] / df[f'VV_{season}']\n",
        "        df[f'SAR_NDVI_{season}'] = (df[f'VH_{season}'] - df[f'VV_{season}']) / (df[f'VH_{season}'] + df[f'VV_{season}'])\n",
        "        df[f'SAR_DVI_{season}'] = df[f'VH_{season}'] - df[f'VV_{season}']\n",
        "        df[f'SAR_SVI_{season}'] = df[f'VH_{season}'] + df[f'VV_{season}']\n",
        "        df[f'SAR_RDVI_{season}'] = (df[f'VH_{season}'] / df[f'VV_{season}']) - (df[f'VV_{season}'] / df[f'VH_{season}'])\n",
        "        df[f'SAR_NRDVI_{season}'] = ((df[f'VH_{season}']/df[f'VV_{season}'] - df[f'VV_{season}']/df[f'VH_{season}']) / (df[f'VH_{season}']/df[f'VV_{season}'] + df[f'VV_{season}']/df[f'VH_{season}']))\n",
        "        df[f'SAR_SSDVI_{season}'] = df[f'VH_{season}']**2 - df[f'VV_{season}']**2\n",
        "\n",
        "def add_s2_indices(df):\n",
        "    for season in seasons:\n",
        "        # Optical Indices\n",
        "        df[f'NDVI_{season}'] = (df[f'B8_{season}'] - df[f'B4_{season}']) / (df[f'B8_{season}'] + df[f'B4_{season}'])\n",
        "        df[f'NDWI_{season}'] = (df[f'B8_{season}'] - df[f'B12_{season}']) / (df[f'B8_{season}'] + df[f'B12_{season}'])\n",
        "        df[f'EVI_{season}'] = (2.5 * ((df[f'B8_{season}'] - df[f'B4_{season}']) / (df[f'B8_{season}'] + 6*df[f'B4_{season}'] - 7.5*df[f'B2_{season}'] + 1)))\n",
        "        df[f'OSAVI_{season}'] = (df[f'B8_{season}'] - df[f'B4_{season}']) / (df[f'B8_{season}'] + df[f'B4_{season}'] + 0.16)\n",
        "        df[f'ARVI_{season}'] = (df[f'B8_{season}'] - 2*df[f'B4_{season}'] + df[f'B2_{season}']) / (df[f'B8_{season}'] + 2*df[f'B4_{season}'] + df[f'B2_{season}'])\n",
        "        df[f'VARI_{season}'] = (df[f'B3_{season}'] - df[f'B4_{season}']) / (df[f'B3_{season}'] + df[f'B4_{season}'] - df[f'B2_{season}'])"
      ],
      "metadata": {
        "id": "GMih6NXUVP8P"
      },
      "execution_count": null,
      "outputs": []
    },
    {
      "cell_type": "code",
      "source": [
        "def get_csv_data(fileName):\n",
        "    data = pd.DataFrame()\n",
        "    try:\n",
        "        data = pd.read_csv(fileName)\n",
        "    except Exception as exp:\n",
        "        print(\"Error reading file \", fileName, \" - \", exp)\n",
        "    return data"
      ],
      "metadata": {
        "id": "A4wWHGaqVTO9"
      },
      "execution_count": null,
      "outputs": []
    },
    {
      "cell_type": "code",
      "source": [
        "# For Canopy Height\n",
        "def pipeline(fileName):\n",
        "    # print(fileName)\n",
        "\n",
        "    df = get_csv_data(fileName)\n",
        "\n",
        "    if (len(df) == 0):\n",
        "        return df\n",
        "\n",
        "    add_s1_indices(df)\n",
        "    add_s2_indices(df)\n",
        "\n",
        "    geoList = list(df['.geo'])\n",
        "    res_df = pd.DataFrame()\n",
        "    res_df['.geo'] = geoList\n",
        "\n",
        "    test_df = df[features_rh98]\n",
        "    pred_y_98 = list(model_rh98.predict(test_df))\n",
        "    test_df = df[features_rh75]\n",
        "    pred_y_75 = list(model_rh75.predict(test_df))\n",
        "    test_df = df[features_rh50]\n",
        "    pred_y_50 = list(model_rh50.predict(test_df))\n",
        "\n",
        "    res_df['rh98_class'] = pred_y_98\n",
        "    res_df['rh75_class'] = pred_y_75\n",
        "    res_df['rh50_class'] = pred_y_50\n",
        "\n",
        "    return res_df"
      ],
      "metadata": {
        "id": "f0taoKRsVV0C"
      },
      "execution_count": null,
      "outputs": []
    },
    {
      "cell_type": "code",
      "source": [
        "for year in years:\n",
        "    dist_num = 0\n",
        "    for ind in district_mapping_df.index:\n",
        "        # if dist_num < 14:\n",
        "        #     dist_num += 1\n",
        "        #     continue\n",
        "        district = district_mapping_df.loc[ind, 'District']\n",
        "        zones = district_mapping_df['IntersectingZones'][ind]\n",
        "        merged_df = pd.DataFrame()\n",
        "        for zone in zones:\n",
        "            print(f'\\n{dist_num} District: {district}, Zone: {zone}, Year: {year}')\n",
        "            dist_data_path = f'drive/MyDrive/{agroclimaticZone_acronym_dict[zone]}_{district}_{year}/'\n",
        "            files = glob(dist_data_path + \"*.csv\")\n",
        "            print(\"no. of files:\", len(files), '\\n')\n",
        "            for fileName in files:\n",
        "                df = pipeline(fileName)\n",
        "                merged_df = pd.concat([merged_df, df])\n",
        "\n",
        "        merged_df.to_csv(f'drive/MyDrive/{agroclimatic_zone}/{district}/{year}/result_chm.csv', index=False)\n",
        "        dist_num += 1"
      ],
      "metadata": {
        "id": "A44U128RXA-O"
      },
      "execution_count": null,
      "outputs": []
    },
    {
      "cell_type": "markdown",
      "source": [
        "## CCD"
      ],
      "metadata": {
        "id": "BxZUdDh6XlIW"
      }
    },
    {
      "cell_type": "code",
      "source": [
        "# agroclimatic_zone = 'Eastern Plateau & Hills Region'\n",
        "agroclimatic_zone = 'Southern Plateau and Hills Region'\n",
        "# agroclimatic_zone = 'East Coast Plains & Hills Region'\n",
        "# agroclimatic_zone = 'Western Plateau and Hills Region'\n",
        "# agroclimatic_zone = 'Central Plateau & Hills Region'\n",
        "# agroclimatic_zone = 'Lower Gangetic Plain Region'\n",
        "# agroclimatic_zone = 'Middle Gangetic Plain Region'\n",
        "# agroclimatic_zone = 'Eastern Himalayan Region'\n",
        "# agroclimatic_zone = 'Western Himalayan Region'\n",
        "# agroclimatic_zone = 'Upper Gangetic Plain Region'\n",
        "# agroclimatic_zone = 'Trans Gangetic Plain Region'"
      ],
      "metadata": {
        "id": "ZO8h-FVTXmS2"
      },
      "execution_count": null,
      "outputs": []
    },
    {
      "cell_type": "code",
      "source": [
        "df = pd.read_csv(f'drive/MyDrive/harsh/{agroclimatic_zone}.csv')\n",
        "dist_list = list(df['Name'])"
      ],
      "metadata": {
        "id": "LBcKDXiCXntk"
      },
      "execution_count": null,
      "outputs": []
    },
    {
      "cell_type": "code",
      "source": [
        "dist_list"
      ],
      "metadata": {
        "id": "FqPgXsQKYiuV"
      },
      "execution_count": null,
      "outputs": []
    },
    {
      "cell_type": "code",
      "source": [
        "agroclimatic_zone_model_path_mapping = {'Central Plateau & Hills Region': 'drive/MyDrive/dhruvi/best_models/corrected/Central_Plateau_Hills_Region_toa_monthly_cover_51.joblib',\n",
        "                                        'Lower Gangetic Plain Region': 'drive/MyDrive/dhruvi/best_models/corrected/Lower_Gangetic_Plain_Region_toa_monthly_cover_48.joblib',\n",
        "                                        'Middle Gangetic Plain Region': 'drive/MyDrive/dhruvi/best_models/corrected/Middle_Gangetic_Plain_Region_toa_monthly_cover_50.joblib',\n",
        "                                        'Eastern Himalayan Region': 'drive/MyDrive/dhruvi/best_models/corrected/Eastern_Himalayan_Region_toa_monthly_cover_86.joblib',\n",
        "                                        'Western Himalayan Region': 'drive/MyDrive/dhruvi/best_models/corrected/Western_Himalayan_Region_toa_monthly_cover_78.joblib',\n",
        "                                        'Upper Gangetic Plain Region': 'drive/MyDrive/dhruvi/best_models/corrected/Upper_Gangetic_Plain_Region_toa_monthly_cover_67.joblib',\n",
        "                                        'Trans Gangetic Plain Region': 'drive/MyDrive/dhruvi/best_models/corrected/Trans_Gangetic_Plain_Region_toa_monthly_cover_55.joblib',\n",
        "                                        'East Coast Plains & Hills Region': 'drive/MyDrive/dhruvi/best_models/corrected/East_Coast_Plains_Hills_Region_toa_monthly_cover_67.joblib',\n",
        "                                        'Eastern Plateau & Hills Region': 'drive/MyDrive/dhruvi/best_models/corrected/Eastern_Plateau_Hills_Region_toa_monthly_cover_60.joblib',\n",
        "                                        'Western Plateau and Hills Region': 'drive/MyDrive/dhruvi/best_models/corrected/Western_Plateau_and_Hills_Region_toa_monthly_cover_57.joblib',\n",
        "                                        'Southern Plateau and Hills Region': 'drive/MyDrive/dhruvi/best_models/corrected/Southern_Plateau_and_Hills_Region_toa_monthly_cover_62.joblib'}"
      ],
      "metadata": {
        "id": "To3ji0dfYlRV"
      },
      "execution_count": null,
      "outputs": []
    },
    {
      "cell_type": "code",
      "source": [
        "MODEL_PATH_cc = agroclimatic_zone_model_path_mapping[agroclimatic_zone]\n",
        "model_cc = joblib.load(MODEL_PATH_cc)"
      ],
      "metadata": {
        "id": "FAlkS5zfYm1C"
      },
      "execution_count": null,
      "outputs": []
    },
    {
      "cell_type": "code",
      "source": [
        "if hasattr(model_cc, 'feature_names_in_'):\n",
        "    features_cc = model_cc.feature_names_in_"
      ],
      "metadata": {
        "id": "FwZ7PHRwYpBS"
      },
      "execution_count": null,
      "outputs": []
    },
    {
      "cell_type": "code",
      "source": [
        "seasons = ['kharif', 'rabi', 'zaid']"
      ],
      "metadata": {
        "id": "5FdErlFBYxyz"
      },
      "execution_count": null,
      "outputs": []
    },
    {
      "cell_type": "code",
      "source": [
        "def add_s1_indices(df):\n",
        "    for season in seasons:\n",
        "        # SAR Indices\n",
        "        df[f'VV_VH_Ratio_{season}'] = df[f'VV_{season}'] / df[f'VH_{season}']\n",
        "        df[f'VH_VV_Ratio_{season}'] = df[f'VH_{season}'] / df[f'VV_{season}']\n",
        "        df[f'SAR_NDVI_{season}'] = (df[f'VH_{season}'] - df[f'VV_{season}']) / (df[f'VH_{season}'] + df[f'VV_{season}'])\n",
        "        df[f'SAR_DVI_{season}'] = df[f'VH_{season}'] - df[f'VV_{season}']\n",
        "        df[f'SAR_SVI_{season}'] = df[f'VH_{season}'] + df[f'VV_{season}']\n",
        "        df[f'SAR_RDVI_{season}'] = (df[f'VH_{season}'] / df[f'VV_{season}']) - (df[f'VV_{season}'] / df[f'VH_{season}'])\n",
        "        df[f'SAR_NRDVI_{season}'] = ((df[f'VH_{season}']/df[f'VV_{season}'] - df[f'VV_{season}']/df[f'VH_{season}']) / (df[f'VH_{season}']/df[f'VV_{season}'] + df[f'VV_{season}']/df[f'VH_{season}']))\n",
        "        df[f'SAR_SSDVI_{season}'] = df[f'VH_{season}']**2 - df[f'VV_{season}']**2\n",
        "\n",
        "def add_s2_indices(df):\n",
        "    for season in seasons:\n",
        "        # Optical Indices\n",
        "        df[f'NDVI_{season}'] = (df[f'B8_{season}'] - df[f'B4_{season}']) / (df[f'B8_{season}'] + df[f'B4_{season}'])\n",
        "        df[f'NDWI_{season}'] = (df[f'B8_{season}'] - df[f'B12_{season}']) / (df[f'B8_{season}'] + df[f'B12_{season}'])\n",
        "        df[f'EVI_{season}'] = (2.5 * ((df[f'B8_{season}'] - df[f'B4_{season}']) / (df[f'B8_{season}'] + 6*df[f'B4_{season}'] - 7.5*df[f'B2_{season}'] + 1)))\n",
        "        df[f'OSAVI_{season}'] = (df[f'B8_{season}'] - df[f'B4_{season}']) / (df[f'B8_{season}'] + df[f'B4_{season}'] + 0.16)\n",
        "        df[f'ARVI_{season}'] = (df[f'B8_{season}'] - 2*df[f'B4_{season}'] + df[f'B2_{season}']) / (df[f'B8_{season}'] + 2*df[f'B4_{season}'] + df[f'B2_{season}'])\n",
        "        df[f'VARI_{season}'] = (df[f'B3_{season}'] - df[f'B4_{season}']) / (df[f'B3_{season}'] + df[f'B4_{season}'] - df[f'B2_{season}'])"
      ],
      "metadata": {
        "id": "DLu1lxecYyx2"
      },
      "execution_count": null,
      "outputs": []
    },
    {
      "cell_type": "code",
      "source": [
        "def get_csv_data(fileName):\n",
        "    data = pd.DataFrame()\n",
        "    try:\n",
        "        data = pd.read_csv(fileName)\n",
        "    except Exception as exp:\n",
        "        print(\"Error reading file \", fileName, \" - \", exp)\n",
        "    return data"
      ],
      "metadata": {
        "id": "5Q2gFgqVY1_D"
      },
      "execution_count": null,
      "outputs": []
    },
    {
      "cell_type": "code",
      "source": [
        "# For Canopy Cover\n",
        "def pipeline(fileName):\n",
        "\n",
        "    print(fileName)\n",
        "\n",
        "    df = get_csv_data(fileName)\n",
        "\n",
        "    if (len(df) == 0):\n",
        "        return df\n",
        "\n",
        "    add_s1_indices(df)\n",
        "    add_s2_indices(df)\n",
        "\n",
        "    geoList = list(df['.geo'])\n",
        "    res_df = pd.DataFrame()\n",
        "    res_df['.geo'] = geoList\n",
        "\n",
        "    for month in range(1,13):\n",
        "        df['month_sin'] = [np.sin(2 * np.pi * month / 12)] * len(df)\n",
        "        df['month_cos'] = [np.cos(2 * np.pi * month / 12)] * len(df)\n",
        "\n",
        "        test_df = df[features_cc]\n",
        "        pred_y_cc = list(model_cc.predict(test_df))\n",
        "        res_df[f'cc_{month}'] = pred_y_cc\n",
        "\n",
        "    return res_df"
      ],
      "metadata": {
        "id": "q_f02oS_Y3Nr"
      },
      "execution_count": null,
      "outputs": []
    },
    {
      "cell_type": "code",
      "source": [
        "for year in years:\n",
        "    dist_num = 0\n",
        "    for district in dist_list:\n",
        "        # if dist_num < 53:\n",
        "        #     dist_num += 1\n",
        "        #     continue\n",
        "        print('\\n', dist_num, district, year)\n",
        "        dist_data_path = f'drive/MyDrive/{agroclimaticZone_acronym_dict[agroclimatic_zone]}_{district}_{year}/'\n",
        "        files = glob(dist_data_path + \"*.csv\")\n",
        "        print(\"no. of files:\", len(files), '\\n')\n",
        "        merged_df = pd.DataFrame()\n",
        "        for fileName in files:\n",
        "            df = pipeline(fileName)\n",
        "\n",
        "            merged_df = pd.concat([merged_df, df])\n",
        "\n",
        "        merged_df.to_csv(f'drive/MyDrive/{agroclimatic_zone}/{district}/{year}/result_monthly_cc.csv', index=False)\n",
        "        dist_num += 1"
      ],
      "metadata": {
        "id": "ADeK2tLIY8lm"
      },
      "execution_count": null,
      "outputs": []
    },
    {
      "cell_type": "code",
      "source": [],
      "metadata": {
        "id": "dlA5URSgZde3"
      },
      "execution_count": null,
      "outputs": []
    }
  ]
}